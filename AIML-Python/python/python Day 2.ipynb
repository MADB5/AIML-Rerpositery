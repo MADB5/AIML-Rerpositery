{
 "cells": [
  {
   "cell_type": "raw",
   "id": "07103843",
   "metadata": {},
   "source": [
    "            EMP ID: 2575647       NAME: Talluri Janardhanakrishna"
   ]
  },
  {
   "cell_type": "markdown",
   "id": "90446d49",
   "metadata": {},
   "source": [
    "# 1. Write a python Function to list even and odd numbers in a list."
   ]
  },
  {
   "cell_type": "code",
   "execution_count": 9,
   "id": "86711917",
   "metadata": {},
   "outputs": [
    {
     "name": "stdout",
     "output_type": "stream",
     "text": [
      "The even numbers are: [2, 4, 6, 8, 10]\n",
      "The odd numbers are: [1, 3, 5, 7, 9]\n"
     ]
    }
   ],
   "source": [
    "def list_even_odd_numbers(list):\n",
    "  \n",
    "  even_numbers = []\n",
    "  odd_numbers = []\n",
    "\n",
    "  for number in list:\n",
    "    \n",
    "    if number % 2 == 0:\n",
    "      even_numbers.append(number)\n",
    "    else:\n",
    "      odd_numbers.append(number)\n",
    "\n",
    "  return even_numbers, odd_numbers\n",
    "\n",
    "\n",
    "numbers = [1, 2, 3, 4, 5, 6, 7, 8, 9, 10]\n",
    "\n",
    "even_numbers, odd_numbers = list_even_odd_numbers(numbers)\n",
    "\n",
    "print(\"The even numbers are:\", even_numbers)\n",
    "print(\"The odd numbers are:\", odd_numbers)"
   ]
  },
  {
   "cell_type": "markdown",
   "id": "539f3656",
   "metadata": {},
   "source": [
    "# 2. Write and run a Python program that asks the user to enter 8 integers (one at a time), and then prints out how many of those integers were even numbers. For example, if the user entered 19, 6, 9, 20, 13, 7, 6, and 1, then your program should print out 3 since 3 of those numbers were even"
   ]
  },
  {
   "cell_type": "code",
   "execution_count": 16,
   "id": "812c25e5",
   "metadata": {},
   "outputs": [
    {
     "name": "stdout",
     "output_type": "stream",
     "text": [
      "Enter a number: 1\n",
      "Enter a number: 2\n",
      "Enter a number: 3\n",
      "Enter a number: 45\n",
      "Enter a number: 65\n",
      "Enter a number: 76\n",
      "Enter a number: 5\n",
      "Enter a number: 34\n",
      "The number of even numbers is 3\n"
     ]
    }
   ],
   "source": [
    "def count_even_numbers():\n",
    "  \n",
    "  numbers = []\n",
    "  for i in range(8):\n",
    "    numbers.append(int(input(\"Enter a number: \")))\n",
    "\n",
    "  even_numbers = 0\n",
    "  for number in numbers:\n",
    "    if number % 2 == 0:\n",
    "      even_numbers += 1\n",
    "  return even_numbers\n",
    "\n",
    "number_of_even_numbers = count_even_numbers()\n",
    "print(\"The number of even numbers is\", number_of_even_numbers)"
   ]
  },
  {
   "cell_type": "markdown",
   "id": "0762570c",
   "metadata": {},
   "source": [
    "# 3. Write a Python program where you take any positive integer n, if n is even, divide it by 2 to get n/ 2. If n is odd, multiply it by 3 and add 1 to obtain 3n+ 1. Repeat the process until you reach 1."
   ]
  },
  {
   "cell_type": "code",
   "execution_count": 17,
   "id": "8348a49d",
   "metadata": {},
   "outputs": [
    {
     "name": "stdout",
     "output_type": "stream",
     "text": [
      "40\n",
      "20\n",
      "10\n",
      "5\n",
      "16\n",
      "8\n",
      "4\n",
      "2\n",
      "1\n"
     ]
    }
   ],
   "source": [
    "def numm(number):\n",
    "  while number != 1:\n",
    "    if number % 2 == 0:\n",
    "      number = number // 2\n",
    "    else:\n",
    "      number = 3 * number + 1\n",
    "    print(number)\n",
    "\n",
    "\n",
    "numm(13)"
   ]
  },
  {
   "cell_type": "markdown",
   "id": "33fdada4",
   "metadata": {},
   "source": [
    "# 4. Write a Python program to compute the sum of all the multiples of 3 or 5 below 500."
   ]
  },
  {
   "cell_type": "code",
   "execution_count": 22,
   "id": "2c3e2a8f",
   "metadata": {},
   "outputs": [
    {
     "name": "stdout",
     "output_type": "stream",
     "text": [
      "41583\n"
     ]
    }
   ],
   "source": [
    "\n",
    "def sum_of_multiples_of_3(limit):\n",
    "\n",
    "  sum = 0\n",
    "  for i in range(limit):\n",
    "    if i % 3 == 0:\n",
    "      sum += i\n",
    "  return sum\n",
    "\n",
    "\n",
    "print(sum_of_multiples_of_3(500))"
   ]
  },
  {
   "cell_type": "markdown",
   "id": "5bb58ff3",
   "metadata": {},
   "source": [
    "# 5. To write a Python program to find first 'n' prime numbers from a list of given numbers."
   ]
  },
  {
   "cell_type": "code",
   "execution_count": 25,
   "id": "f2062275",
   "metadata": {},
   "outputs": [
    {
     "name": "stdout",
     "output_type": "stream",
     "text": [
      "[13, 7, 11]\n"
     ]
    }
   ],
   "source": [
    "def find_first_n_prime_numbers(list, n):\n",
    "  \n",
    "  prime_numbers = []\n",
    "  for number in list:\n",
    "    is_prime = True\n",
    "    for i in range(2, int(number ** 0.5) + 1):\n",
    "      if number % i == 0:\n",
    "        is_prime = False\n",
    "        break\n",
    "    if is_prime:\n",
    "      prime_numbers.append(number)\n",
    "  return prime_numbers[:n]\n",
    "\n",
    "list = [20,13,7,15,11,23,43,33]\n",
    "print(find_first_n_prime_numbers(list, 3))"
   ]
  },
  {
   "cell_type": "markdown",
   "id": "0a76fe47",
   "metadata": {},
   "source": [
    "# 6. To write a Python program to compute matrix multiplication. "
   ]
  },
  {
   "cell_type": "code",
   "execution_count": 26,
   "id": "1fe86da0",
   "metadata": {},
   "outputs": [
    {
     "name": "stdout",
     "output_type": "stream",
     "text": [
      "[[81, 114, 129], [101, 140, 161]]\n"
     ]
    }
   ],
   "source": [
    "6.\n",
    "\n",
    "def matrix_multiplication(matrix_a, matrix_b):\n",
    "\n",
    "  product_matrix = []\n",
    "  for i in range(len(matrix_a)):\n",
    "    product_row = []\n",
    "    for j in range(len(matrix_b[0])):\n",
    "      product_element = 0\n",
    "      for k in range(len(matrix_b)):\n",
    "        product_element += matrix_a[i][k] * matrix_b[k][j]\n",
    "      product_row.append(product_element)\n",
    "    product_matrix.append(product_row)\n",
    "  return product_matrix\n",
    "\n",
    "\n",
    "matrix_a = [[3, 6, 8], [3, 8, 6]]\n",
    "matrix_b = [[7, 12, 11], [10, 13, 16]]\n",
    "print(matrix_multiplication(matrix_a, matrix_b))"
   ]
  },
  {
   "cell_type": "markdown",
   "id": "74617cd6",
   "metadata": {},
   "source": [
    "# 7. Write a python Function to count the number of vowels in a string."
   ]
  },
  {
   "cell_type": "code",
   "execution_count": 27,
   "id": "3828c11b",
   "metadata": {},
   "outputs": [
    {
     "name": "stdout",
     "output_type": "stream",
     "text": [
      "4\n"
     ]
    }
   ],
   "source": [
    "def count_vowels(string):\n",
    "    \n",
    "  vowels = \"aeiou\"\n",
    "  count = 0\n",
    "  for letter in string:\n",
    "    if letter in vowels:\n",
    "      count += 1\n",
    "  return count\n",
    "\n",
    "\n",
    "string = \"lets lear python\"\n",
    "print(count_vowels(string))"
   ]
  },
  {
   "cell_type": "markdown",
   "id": "e0e8c356",
   "metadata": {},
   "source": [
    "# 8. Write a python Function for finding factorial for the given number using a recursive function."
   ]
  },
  {
   "cell_type": "code",
   "execution_count": 29,
   "id": "ea6b72ca",
   "metadata": {},
   "outputs": [
    {
     "name": "stdout",
     "output_type": "stream",
     "text": [
      "2432902008176640000\n"
     ]
    }
   ],
   "source": [
    "def factorial(n):\n",
    "  \n",
    "  if n == 0:\n",
    "    return 1\n",
    "  else:\n",
    "    return n * factorial(n - 1)\n",
    "\n",
    "\n",
    "print(factorial(20))"
   ]
  },
  {
   "cell_type": "markdown",
   "id": "1c12e988",
   "metadata": {},
   "source": [
    "# 9. Write a python Function for generating the Fibonacci series using the function."
   ]
  },
  {
   "cell_type": "code",
   "execution_count": 30,
   "id": "1cf8db24",
   "metadata": {},
   "outputs": [
    {
     "name": "stdout",
     "output_type": "stream",
     "text": [
      "[0, 1, 1, 2, 3, 5, 8, 13, 21, 34, 55, 89, 144]\n"
     ]
    }
   ],
   "source": [
    "def fibonacci(n):\n",
    " \n",
    "  if n == 0:\n",
    "    return []\n",
    "  elif n == 1:\n",
    "    return [0, 1]\n",
    "  else:\n",
    "    fibonacci_series = fibonacci(n - 1)\n",
    "    fibonacci_series.append(fibonacci_series[-1] + fibonacci_series[-2])\n",
    "    return fibonacci_series\n",
    "\n",
    "\n",
    "print(fibonacci(12))"
   ]
  },
  {
   "cell_type": "markdown",
   "id": "6358a296",
   "metadata": {},
   "source": [
    "# 10. Python program to display the given integer in reverse order using the function without an in-built function"
   ]
  },
  {
   "cell_type": "code",
   "execution_count": 31,
   "id": "09be6ef5",
   "metadata": {},
   "outputs": [
    {
     "name": "stdout",
     "output_type": "stream",
     "text": [
      "6874321\n"
     ]
    }
   ],
   "source": [
    "def reverse_integer(number):\n",
    "  \n",
    "  reversed_number = 0\n",
    "  while number != 0:\n",
    "    reversed_number = reversed_number * 10 + number % 10\n",
    "    number //= 10\n",
    "  return reversed_number\n",
    "\n",
    "\n",
    "number = 1234786\n",
    "print(reverse_integer(number))"
   ]
  },
  {
   "cell_type": "markdown",
   "id": "406daa43",
   "metadata": {},
   "source": [
    "# 11. Write a Python Function to display all integers within the range 200-300 whose sum of digits is even number."
   ]
  },
  {
   "cell_type": "code",
   "execution_count": 36,
   "id": "5b4b0ab7",
   "metadata": {},
   "outputs": [
    {
     "name": "stdout",
     "output_type": "stream",
     "text": [
      "200\n",
      "202\n",
      "204\n",
      "206\n",
      "208\n",
      "211\n",
      "213\n",
      "215\n",
      "217\n",
      "219\n",
      "220\n",
      "222\n",
      "224\n",
      "226\n",
      "228\n",
      "231\n",
      "233\n",
      "235\n",
      "237\n",
      "239\n",
      "240\n",
      "242\n",
      "244\n",
      "246\n",
      "248\n",
      "251\n",
      "253\n",
      "255\n",
      "257\n",
      "259\n",
      "260\n",
      "262\n",
      "264\n",
      "266\n",
      "268\n",
      "271\n",
      "273\n",
      "275\n",
      "277\n",
      "279\n",
      "280\n",
      "282\n",
      "284\n",
      "286\n",
      "288\n",
      "291\n",
      "293\n",
      "295\n",
      "297\n",
      "299\n"
     ]
    }
   ],
   "source": [
    "def find_even_sum_integers(start, end):\n",
    "\n",
    "  for number in range(start, end + 1):\n",
    "    sum_of_digits = 0\n",
    "    for digit in str(number):\n",
    "      sum_of_digits += int(digit)\n",
    "    if sum_of_digits % 2 == 0:\n",
    "      print(number)\n",
    "\n",
    "find_even_sum_integers(200, 300)"
   ]
  },
  {
   "cell_type": "markdown",
   "id": "d2d2c3db",
   "metadata": {},
   "source": [
    "# 12. Write a python Function to find the number of digits and sum of digits for a given integer."
   ]
  },
  {
   "cell_type": "code",
   "execution_count": null,
   "id": "5c14b9f0",
   "metadata": {},
   "outputs": [],
   "source": [
    "def number_of_digits(number):\n",
    "  number_of_digits = 0\n",
    "  while number != 0:\n",
    "    number //= 10\n",
    "    number_of_digits += 1\n",
    "  return number_of_digits\n",
    "\n",
    "\n",
    "def sum_of_digits(number):\n",
    "    \n",
    "  sum_of_digits = 0\n",
    "  while number != 0:\n",
    "    sum_of_digits += number % 10\n",
    "    number //= 10\n",
    "  return sum_of_digits\n",
    "\n",
    "number = 45354364\n",
    "print(number_of_digits(number))\n",
    "print(sum_of_digits(number))"
   ]
  },
  {
   "cell_type": "markdown",
   "id": "a866effd",
   "metadata": {},
   "source": [
    "# 13. Write functions called is_sorted that takes a list as a parameter and returns True if the list is sorted in ascending order and False qtherwise and has duplicates that takes a list and returns True if there is any element that appears more than once. It should not modify the original list."
   ]
  },
  {
   "cell_type": "code",
   "execution_count": 43,
   "id": "6d0b0174",
   "metadata": {},
   "outputs": [
    {
     "name": "stdout",
     "output_type": "stream",
     "text": [
      "sorted False\n",
      "duplicate values True\n"
     ]
    }
   ],
   "source": [
    "def is_sorted(list):\n",
    "    \n",
    "  is_sorted = True\n",
    "  for i in range(len(list) - 1):\n",
    "    if list[i] > list[i + 1]:\n",
    "      is_sorted = False\n",
    "      break\n",
    "  return is_sorted\n",
    "\n",
    "def has_duplicates(list):\n",
    "  \n",
    "  seen = set()\n",
    "  for element in list:\n",
    "    if element in seen:\n",
    "      return True\n",
    "    seen.add(element)\n",
    "  return False\n",
    "\n",
    "\n",
    "list = [12,13,12,25,18,22]\n",
    "print(\"sorted\", is_sorted(list))\n",
    "print(\"duplicate values\", has_duplicates(list))"
   ]
  },
  {
   "cell_type": "markdown",
   "id": "3e76d889",
   "metadata": {},
   "source": [
    "# 14. Write functions called nested sum that takes a list of integers and adds up the elements from all the nested lists and cumsum that takes a list of numbers and returns the cumulative sum; that is, a new list where the ith element is the sum of the first i + 1 elements from the original list."
   ]
  },
  {
   "cell_type": "code",
   "execution_count": 50,
   "id": "f5d25a32",
   "metadata": {},
   "outputs": [
    {
     "name": "stdout",
     "output_type": "stream",
     "text": [
      "The nested sum is: 21\n",
      "The cumulative sum is: [1, 3, 6, 10, 15]\n"
     ]
    }
   ],
   "source": [
    "def nested_sum(list):\n",
    "  \n",
    "  sum = 0\n",
    "  for nested_list in list:\n",
    "    for element in nested_list:\n",
    "      sum += element\n",
    "  return sum\n",
    "\n",
    "def cumsum(list):\n",
    "    \n",
    "  cumsum_list = []\n",
    "  for i, element in enumerate(list):\n",
    "    sum = 0 if i == 0 else cumsum_list[i - 1]\n",
    "    cumsum_list.append(sum + element)\n",
    "  return cumsum_list\n",
    "\n",
    "\n",
    "list = [[1, 2], [3, 4], [5, 6]]\n",
    "print(\"The nested sum is:\", nested_sum(list))\n",
    "\n",
    "list = [1, 2, 3, 4, 5]\n",
    "print(\"The cumulative sum is:\", cumsum(list))"
   ]
  },
  {
   "cell_type": "code",
   "execution_count": null,
   "id": "e899ccb7",
   "metadata": {},
   "outputs": [],
   "source": []
  }
 ],
 "metadata": {
  "kernelspec": {
   "display_name": "Python 3 (ipykernel)",
   "language": "python",
   "name": "python3"
  },
  "language_info": {
   "codemirror_mode": {
    "name": "ipython",
    "version": 3
   },
   "file_extension": ".py",
   "mimetype": "text/x-python",
   "name": "python",
   "nbconvert_exporter": "python",
   "pygments_lexer": "ipython3",
   "version": "3.11.4"
  }
 },
 "nbformat": 4,
 "nbformat_minor": 5
}
