{
 "cells": [
  {
   "cell_type": "code",
   "execution_count": null,
   "id": "cb009156",
   "metadata": {},
   "outputs": [],
   "source": [
    "2575647_Taluri janardhankrishna"
   ]
  },
  {
   "cell_type": "markdown",
   "id": "d99b6192",
   "metadata": {},
   "source": [
    "# 1. Write a python function that copies a file reading and writing up to 50 characters at a time."
   ]
  },
  {
   "cell_type": "code",
   "execution_count": 6,
   "id": "ac3d0ecc",
   "metadata": {},
   "outputs": [],
   "source": [
    "def copy_file(source_file, destination_file):\n",
    "    with open(source_file, 'r') as source:\n",
    "        with open(destination_file, 'w') as destination:\n",
    "            while True:\n",
    "                data = source.read(50)\n",
    "                if not data:\n",
    "                    break\n",
    "                destination.write(data)\n",
    "    copy_file(\"source.txt\", \"destination.txt\")"
   ]
  },
  {
   "cell_type": "markdown",
   "id": "bb9d2e15",
   "metadata": {},
   "source": [
    "# 2. Print all numbers present in the text file and print the number of blank spaces in that file."
   ]
  },
  {
   "cell_type": "code",
   "execution_count": 19,
   "id": "05cb86c0",
   "metadata": {},
   "outputs": [
    {
     "name": "stdout",
     "output_type": "stream",
     "text": [
      "Numbers present in the file:\n",
      "1234\n",
      "56789\n",
      "Number of blank spaces: 0\n"
     ]
    }
   ],
   "source": [
    "def print_numbers_and_count_spaces(file_path):\n",
    "    numbers = []\n",
    "    space_count = 0\n",
    "\n",
    "    with open(file_path, 'r') as file:\n",
    "        content = file.read()\n",
    "        for word in content.split():\n",
    "            if word.isdigit():\n",
    "                numbers.append(int(word))\n",
    "            elif word.isspace():\n",
    "                space_count += 1\n",
    "\n",
    "    print(\"Numbers present in the file:\")\n",
    "    for number in numbers:\n",
    "        print(number)\n",
    "\n",
    "    print(\"Number of blank spaces:\", space_count)\n",
    "    word.isspace()\n",
    "\n",
    "# Create a file and write some content\n",
    "with open(\"exp.txt\", 'w') as file:\n",
    "    file.write(\"This is a sample text file.\\n\")\n",
    "    file.write(\"It contains some numbers like 1234  56789 .\\n\")\n",
    "    file.write(\"There are also blank spaces in this file.\")\n",
    "\n",
    "# Call the function with the file path\n",
    "print_numbers_and_count_spaces(\"exp.txt\")"
   ]
  },
  {
   "cell_type": "markdown",
   "id": "17baa2c8",
   "metadata": {},
   "source": [
    "# 3. Write a function called sed that takes as arguments a pattern string, a replacement string, and two filenames; it should read the first file and write the contents into the second file (creating it if necessary). If the pattern string appears anywhere in the file, it should be replaced with the replacement string. If an error occurs while opening, reading, writing, or closing files, your program should catch the exception, print an error message, and exit."
   ]
  },
  {
   "cell_type": "code",
   "execution_count": 1,
   "id": "23277f88",
   "metadata": {},
   "outputs": [],
   "source": [
    "def sed(pattern, replacement, source_file, destination_file):\n",
    "    try:\n",
    "        with open(source_file, 'r') as source:\n",
    "            content = source.read()\n",
    "            modified_content = content.replace(pattern, replacement)\n",
    "\n",
    "        with open(destination_file, 'w') as destination:\n",
    "            destination.write(modified_content)\n",
    "        sed(\"new\", \"old\", \"source.txt\", \"destination.txt\")\n",
    "        \n",
    "    except Exception as e:\n",
    "        print(\"An error occurred:\", str(e))\n",
    "        exit(1)\n"
   ]
  },
  {
   "cell_type": "markdown",
   "id": "d31d8e46",
   "metadata": {},
   "source": [
    "# 4. Log File Analysis: You have a log file containing records of ser activities on a website. Each line in the file represents a log entry with details like timestamp, user ID, and action performed. Your task is to analyze this log file. as the\n",
    "\n",
    "a. Write Python code to read the log file and extract specific information, such number of unique users or the most common action. \n",
    "b. How would you handle large log files efficiently without loading the entire file into memory?"
   ]
  },
  {
   "cell_type": "code",
   "execution_count": 8,
   "id": "8229570f",
   "metadata": {},
   "outputs": [
    {
     "name": "stdout",
     "output_type": "stream",
     "text": [
      "The number of unique users is: 0\n",
      "The most common action is: None\n"
     ]
    }
   ],
   "source": [
    "'''a. Write Python code to read the log file and extract specific information, such number \n",
    "of unique users or the most common action\n",
    "'''\n",
    "import re\n",
    "\n",
    "def get_unique_users(log_file_path):\n",
    "    \n",
    "  unique_users = set()\n",
    "\n",
    "  with open(log_file_path, 'r') as log_file:\n",
    "    for line in log_file:\n",
    "      match = re.match(r'^\\d+ \\d+ \\d+ \\d+ \\d+ \\d+ ([0-9]+) (.*)$', line)\n",
    "      if match:\n",
    "        user_id = match.group(1)\n",
    "        unique_users.add(user_id)\n",
    "\n",
    "  return len(unique_users)\n",
    "\n",
    "\n",
    "def get_most_common_action(log_file_path):\n",
    "  \n",
    "  action_counts = {}\n",
    "\n",
    "  with open(log_file_path, 'r') as log_file:\n",
    "    for line in log_file:\n",
    "      match = re.match(r'^\\d+ \\d+ \\d+ \\d+ \\d+ \\d+ (.*)$', line)\n",
    "      if match:\n",
    "        action = match.group(2)\n",
    "        if action not in action_counts:\n",
    "          action_counts[action] = 0\n",
    "        action_counts[action] += 1\n",
    "\n",
    "  most_common_action = None\n",
    "  max_count = 0\n",
    "\n",
    "  for action, count in action_counts.items():\n",
    "    if count > max_count:\n",
    "      most_common_action = action\n",
    "      max_count = count\n",
    "\n",
    "  return most_common_action\n",
    "\n",
    "\n",
    "if __name__ == '__main__':\n",
    "  log_file_path = 'log.txt'\n",
    "\n",
    "  unique_users = get_unique_users(log_file_path)\n",
    "  print('The number of unique users is:', unique_users)\n",
    "\n",
    "  most_common_action = get_most_common_action(log_file_path)\n",
    "  print('The most common action is:', most_common_action)\n"
   ]
  },
  {
   "cell_type": "code",
   "execution_count": 9,
   "id": "aa95bf32",
   "metadata": {},
   "outputs": [
    {
     "ename": "SyntaxError",
     "evalue": "incomplete input (1000003916.py, line 6)",
     "output_type": "error",
     "traceback": [
      "\u001b[1;36m  Cell \u001b[1;32mIn[9], line 6\u001b[1;36m\u001b[0m\n\u001b[1;33m    \u001b[0m\n\u001b[1;37m    ^\u001b[0m\n\u001b[1;31mSyntaxError\u001b[0m\u001b[1;31m:\u001b[0m incomplete input\n"
     ]
    }
   ],
   "source": [
    "'''b. How would you handle large log files efficiently without loading the entire \n",
    "file into memory?\n",
    "'''\n",
    "with open('log.txt', 'r') as log_file:\n",
    "  for line in log_file:\n",
    "    '''\n",
    "This code will read the file line by line and process each \n",
    "line as it is read. This is a good option\n",
    "because it will not load the entire file into memory at once\n",
    "'''"
   ]
  },
  {
   "cell_type": "markdown",
   "id": "862efc16",
   "metadata": {},
   "source": [
    "# 5. Text File Search and Replace: You have a text file with a large amount of text, and you want to search for specific words or phrases and replace them with new content.\n",
    "\n",
    "a. Write Python code to search for and replace text within a text file.\n",
    "\n",
    "b. How would you handle cases where you need to perform multiple replacements in a single pass?\n",
    "\n"
   ]
  },
  {
   "cell_type": "code",
   "execution_count": 1,
   "id": "83b1b971",
   "metadata": {},
   "outputs": [],
   "source": [
    "def search_and_replace(file_path, search_text, replace_text):\n",
    "    with open(file_path, 'r') as file:\n",
    "        content = file.read()\n",
    "\n",
    "    modified_content = content.replace(search_text, replace_text)\n",
    "\n",
    "    with open(file_path, 'w') as file:\n",
    "        file.write(modified_content)\n",
    "\n",
    "search_and_replace(\"prog5.txt\", \"hi\",\"hay\")"
   ]
  },
  {
   "cell_type": "code",
   "execution_count": null,
   "id": "4fc9c8c9",
   "metadata": {},
   "outputs": [],
   "source": [
    "# b. How would you handle cases where you need to perform multiple \n",
    "  #  replacements in a single pass?"
   ]
  },
  {
   "cell_type": "code",
   "execution_count": 2,
   "id": "1d913d94",
   "metadata": {},
   "outputs": [],
   "source": [
    "def search_and_replace_multiple(file_path, replacements):\n",
    "    with open(file_path, 'r') as file:\n",
    "        content = file.read()\n",
    "\n",
    "    modified_content = content\n",
    "    for search_text, replace_text in replacements:\n",
    "        modified_content = modified_content.replace(search_text, replace_text)\n",
    "\n",
    "    with open(file_path, 'w') as file:\n",
    "        file.write(modified_content)\n",
    "replacements = [(\"hi\", \"hello\"), (\"java\", \"python\")]\n",
    "\n",
    "search_and_replace_multiple(\"prog5b.txt\", replacements)"
   ]
  },
  {
   "cell_type": "markdown",
   "id": "f745e12b",
   "metadata": {},
   "source": [
    "# 6. Write a Python script that concatenates the contents of multiple text files into a single output file. Allow the user to specify the input files and the output file."
   ]
  },
  {
   "cell_type": "code",
   "execution_count": null,
   "id": "03f4cd3f",
   "metadata": {},
   "outputs": [],
   "source": [
    "def concatenate_files(input_files, output_file):\n",
    "    with open(output_file, 'w') as output:\n",
    "        for file in input_files:\n",
    "            with open(file, 'r') as input_file:\n",
    "                output.write(input_file.read())\n",
    "\n",
    "# Get input file names from user\n",
    "input_files = input(\"Enter the input file names: \").split()\n",
    "\n",
    "# Get output file name from user\n",
    "output_file = input(\"Enter the output file name: \")\n",
    "\n",
    "concatenate_files(input_files, output_file)"
   ]
  },
  {
   "cell_type": "markdown",
   "id": "213e3294",
   "metadata": {},
   "source": [
    "# 7. You are given a text file named input.txt containing a list of words, one word per line. Your task is to create a Python program that reads the contents of input.txt, processes the words, and writes the result to an output file named output.txt.\n",
    "\n",
    "a. The program should perform the following operations: \n",
    "\n",
    "i. Read the words from input.txt.\n",
    "\n",
    "ii. For each word in the input file, calculate the length of the word and store it in a dictionary where the word is the key, and the length is the value. \n",
    "\n",
    "iii. Write the word-length dictionary to output.txt in the following format:\n",
    "\n",
    "iv. Close both input and output files properly. v. Write Python code to accomplish this task. Ensure proper error handling"
   ]
  },
  {
   "cell_type": "code",
   "execution_count": 4,
   "id": "ef195248",
   "metadata": {},
   "outputs": [
    {
     "name": "stdout",
     "output_type": "stream",
     "text": [
      "['hi hello eveyone']\n"
     ]
    }
   ],
   "source": [
    "# i. Read the words from input.txt.\n",
    "\n",
    "def read_words(input_file):\n",
    "    try:\n",
    "        with open(input_file, 'r') as file:\n",
    "            words = file.read().splitlines()\n",
    "        return words\n",
    "    except IOError as e:\n",
    "        print(\"An error occurred while reading the file:\", str(e))\n",
    "        return []\n",
    "\n",
    "input_file = \"input.txt\"\n",
    "words = read_words(input_file)\n",
    "print(words)"
   ]
  },
  {
   "cell_type": "code",
   "execution_count": 5,
   "id": "0b0aacb2",
   "metadata": {},
   "outputs": [
    {
     "name": "stdout",
     "output_type": "stream",
     "text": [
      "{'hi hello eveyone': 16}\n"
     ]
    }
   ],
   "source": [
    "'''\n",
    "ii. For each word in the input file, calculate the length of\n",
    "the word and store it in a dictionary where the word is the key, and the length is the value. \n",
    "'''\n",
    "def calculate_word_lengths(words):\n",
    "    word_lengths = {}\n",
    "    for word in words:\n",
    "        word_lengths[word] = len(word)\n",
    "    return word_lengths\n",
    "\n",
    "input_file = \"input.txt\"\n",
    "words = read_words(input_file)\n",
    "word_lengths = calculate_word_lengths(words)\n",
    "print(word_lengths)"
   ]
  },
  {
   "cell_type": "code",
   "execution_count": 6,
   "id": "efe29d5f",
   "metadata": {},
   "outputs": [],
   "source": [
    "# iii. Write the word-length dictionary to output.txt in the following format:\n",
    "\n",
    "def write_word_lengths(word_lengths, output_file):\n",
    "    try:\n",
    "        with open(output_file, 'w') as file:\n",
    "            for word, length in word_lengths.items():\n",
    "                file.write(f\"{word}: {length}\\n\")\n",
    "    except IOError as e:\n",
    "        print(\"An error occurred while writing to the file:\", str(e))\n",
    "\n",
    "# Example usage\n",
    "output_file = \"output.txt\"\n",
    "write_word_lengths(word_lengths, output_file)\n"
   ]
  },
  {
   "cell_type": "code",
   "execution_count": 12,
   "id": "2d7ddc1c",
   "metadata": {},
   "outputs": [],
   "source": [
    "'''\n",
    "iv. Close both input and output files properly.\n",
    "v. Write Python code to accomplish this task. Ensure proper \n",
    "error handling\n",
    "'''\n",
    "def process_words(input_file, output_file):\n",
    "    try:\n",
    "        with open(input_file, 'r') as input_file:\n",
    "            words = input_file.read().splitlines()\n",
    "\n",
    "        word_lengths = {}\n",
    "        for word in words:\n",
    "            word_lengths[word] = len(word)\n",
    "\n",
    "        with open(output_file, 'w') as output_file:\n",
    "            for word, length in word_lengths.items():\n",
    "                output_file.write(f\"{word}: {length}\\n\")\n",
    "\n",
    "    except IOError as e:\n",
    "        print(\"An error occurred while processing the files:\", str(e))\n",
    "\n",
    "input_file = \"input.txt\"\n",
    "output_file = \"output.txt\"\n",
    "\n",
    "process_words(input_file, output_file)"
   ]
  },
  {
   "cell_type": "code",
   "execution_count": 17,
   "id": "770aa3dc",
   "metadata": {},
   "outputs": [
    {
     "name": "stdout",
     "output_type": "stream",
     "text": [
      "apple: 5\n",
      "banana: 6\n",
      "cgerry: 6\n",
      "orange: 6\n",
      "boll: 4\n",
      "cat: 3\n",
      "\n"
     ]
    }
   ],
   "source": [
    "f = open('output.txt', 'r') \n",
    "content = f.read() \n",
    "print(content) \n",
    "f.close()"
   ]
  },
  {
   "cell_type": "markdown",
   "id": "0e4a3f91",
   "metadata": {},
   "source": [
    "# 8. Assume that you are developing a student gradebook system for a school. The system should allow teachers to input student grades for various subjects, store the data in files, and provide students with the ability to view their grades.\n",
    "\n",
    "Design a Python program that accomplishes the following tasks:\n",
    "\n",
    "i. Teachers should be able to input grades for students in different subjects.\n",
    "\n",
    "ii. Store the student grade data in separate text files for each subject.\n",
    "\n",
    "iii. Students should be able to view their grades for each subject.\n",
    "\n",
    "iv. Implement error handling for file operations, such as file not found or permission issues."
   ]
  },
  {
   "cell_type": "code",
   "execution_count": 25,
   "id": "11658f9c",
   "metadata": {},
   "outputs": [
    {
     "name": "stdout",
     "output_type": "stream",
     "text": [
      "Enter the grade for Math: 60\n",
      "Enter the grade for Science: 45\n",
      "Enter the grade for English: 56\n",
      "Enter the grade for History: 67\n",
      "Enter the grade for Computer Science: 67\n",
      "Enter the grade for Art: 76\n",
      "The grades are:\n",
      "Math: 60\n",
      "Science: 45\n",
      "English: 56\n",
      "History: 67\n",
      "Computer Science: 67\n",
      "Art: 76\n"
     ]
    }
   ],
   "source": [
    "'''\n",
    "i. Teachers should be able to input grades for students\n",
    "in different subjects.\n",
    "'''\n",
    "\n",
    "def get_inputs(subjects):\n",
    "\n",
    "  grades = []\n",
    "  for subject in subjects:\n",
    "    grade = input(\"Enter the grade for %s: \" % subject)\n",
    "    grades.append(grade)\n",
    "\n",
    "  return grades\n",
    "\n",
    "def main():\n",
    "  subjects = [\"Math\", \"Science\", \"English\", \"History\", \"Computer Science\", \"Art\"]\n",
    "  grades = get_inputs(subjects)\n",
    "\n",
    "  print(\"The grades are:\")\n",
    "  for i, subject in enumerate(subjects):\n",
    "    print(\"%s: %s\" % (subject, grades[i]))\n",
    "\n",
    "if __name__ == \"__main__\":\n",
    "  main()\n"
   ]
  },
  {
   "cell_type": "code",
   "execution_count": 37,
   "id": "f2bfa0a4",
   "metadata": {},
   "outputs": [
    {
     "name": "stdout",
     "output_type": "stream",
     "text": [
      "Enter the grade for Math: 45\n",
      "Enter the grade for Science: 67\n",
      "Enter the grade for English: 78\n",
      "Enter the grade for History: 78\n",
      "Enter the grade for Computer Science: 78\n",
      "Enter the grade for Art: 78\n"
     ]
    }
   ],
   "source": [
    "'''\n",
    "ii. Store the student grade data in separate text \n",
    "files for each subject.\n",
    "'''\n",
    "import os\n",
    "\n",
    "def get_inputs(subjects):\n",
    "  grades = []\n",
    "  for subject in subjects:\n",
    "    grade = input(\"Enter the grade for %s: \" % subject)\n",
    "    grades.append(grade)\n",
    "\n",
    "  return grades\n",
    "\n",
    "def store_grades(grades, subject):\n",
    "  \n",
    "  filename = \"%s.txt\" % subject\n",
    "  with open(filename, \"w\") as f:\n",
    "    for grade in grades:\n",
    "      f.write(\"%s\" % grade)\n",
    "\n",
    "def main():\n",
    "  subjects = [\"Math\", \"Science\", \"English\", \"History\", \"Computer Science\", \"Art\"]\n",
    "  grades = get_inputs(subjects)\n",
    "\n",
    "  for subject, grade in zip(subjects, grades):\n",
    "    store_grades(grade, subject)\n",
    "\n",
    "if __name__ == \"__main__\":\n",
    "  main()"
   ]
  },
  {
   "cell_type": "code",
   "execution_count": 40,
   "id": "ba4c0dcf",
   "metadata": {},
   "outputs": [
    {
     "name": "stdout",
     "output_type": "stream",
     "text": [
      "Enter your student ID: 345674\n",
      "Enter the subject: MATH\n"
     ]
    }
   ],
   "source": [
    "#iii. Students should be able to view their grades for each subject.\n",
    "\n",
    "import os\n",
    "\n",
    "def view_grades(student_id, subject):\n",
    "  \n",
    "\n",
    "  filename = \"%s.txt\" % subject\n",
    "  with open(filename, \"r\") as f:\n",
    "    for line in f:\n",
    "      if line.startswith(student_id):\n",
    "        print(\"Grade:\", line.strip())\n",
    "        break\n",
    "\n",
    "def main():\n",
    "  student_id = input(\"Enter your student ID: \")\n",
    "  subject = input(\"Enter the subject: \")\n",
    "\n",
    "  view_grades(student_id, subject)\n",
    "\n",
    "if __name__ == \"__main__\":\n",
    "  main()"
   ]
  },
  {
   "cell_type": "code",
   "execution_count": 41,
   "id": "63071f07",
   "metadata": {},
   "outputs": [
    {
     "name": "stdout",
     "output_type": "stream",
     "text": [
      "Enter your student ID: 3456\n",
      "Enter the subject: MATH\n"
     ]
    }
   ],
   "source": [
    "'''iv. Implement error handling for file operations, such as \n",
    "file not found or permission issues.\n",
    "\n",
    "import os\n",
    "\n",
    "def view_grades(student_id, subject):\n",
    "  \"\"\"Views the grades for a student for a particular subject.\n",
    "\n",
    "  Args:\n",
    "    student_id: The student ID.\n",
    "    subject: The subject.\n",
    "  \"\"\"\n",
    "\n",
    "  filename = \"%s.txt\" % subject\n",
    "  try:\n",
    "    with open(filename, \"r\") as f:\n",
    "      for line in f:\n",
    "        if line.startswith(student_id):\n",
    "          print(\"Grade:\", line.strip())\n",
    "          break\n",
    "  except FileNotFoundError:\n",
    "    print(\"The file %s does not exist.\" % filename)\n",
    "  except PermissionError:\n",
    "    print(\"You do not have permission to open the file %s.\" % filename)\n",
    "\n",
    "def main():\n",
    "  student_id = input(\"Enter your student ID: \")\n",
    "  subject = input(\"Enter the subject: \")\n",
    "\n",
    "  view_grades(student_id, subject)\n",
    "\n",
    "if name == \"main\":\n",
    "  main()"
   ]
  },
  {
   "cell_type": "code",
   "execution_count": null,
   "id": "e5062b37",
   "metadata": {},
   "outputs": [],
   "source": []
  }
 ],
 "metadata": {
  "kernelspec": {
   "display_name": "Python 3 (ipykernel)",
   "language": "python",
   "name": "python3"
  },
  "language_info": {
   "codemirror_mode": {
    "name": "ipython",
    "version": 3
   },
   "file_extension": ".py",
   "mimetype": "text/x-python",
   "name": "python",
   "nbconvert_exporter": "python",
   "pygments_lexer": "ipython3",
   "version": "3.11.4"
  }
 },
 "nbformat": 4,
 "nbformat_minor": 5
}
