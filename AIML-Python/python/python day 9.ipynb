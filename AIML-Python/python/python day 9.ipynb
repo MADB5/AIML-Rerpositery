{
 "cells": [
  {
   "cell_type": "code",
   "execution_count": null,
   "id": "daa53f9a",
   "metadata": {},
   "outputs": [],
   "source": [
    "2575647_Talluri janardhanakrishna"
   ]
  },
  {
   "cell_type": "markdown",
   "id": "084829dd",
   "metadata": {},
   "source": [
    "# Dataset\n",
    "\n",
    "np_olympic_country=np.array(['GBR','Chine','RUS','US','KOR','JPN','GER'])\n",
    "np_olympic_country_gold=np.array([29,38,24,46,13,7,11])\n",
    "np_olympic_country_silver=np.array([17,28,25,28,8,14,11])\n",
    "np_olympic_country_Bronze=np.array([19,22,32,29,7,17,14])\n"
   ]
  },
  {
   "cell_type": "code",
   "execution_count": null,
   "id": "c2384876",
   "metadata": {},
   "outputs": [],
   "source": [
    "1.find the country index with maximum gold\n"
   ]
  },
  {
   "cell_type": "code",
   "execution_count": 28,
   "id": "33780ae8",
   "metadata": {},
   "outputs": [
    {
     "name": "stdout",
     "output_type": "stream",
     "text": [
      "3\n"
     ]
    }
   ],
   "source": [
    "import numpy as np\n",
    "\n",
    "# Create the dataset\n",
    "np_olympic_country = np.array(['GBR', 'China', 'RUS', 'US', 'KOR', 'JPN', 'GER'])\n",
    "np_olympic_country_gold = np.array([29, 38, 24, 46, 13, 7, 11])\n",
    "np_olympic_country_silver = np.array([17, 28, 25, 28, 8, 14, 11])\n",
    "np_olympic_country_bronze = np.array([19, 22, 32, 29, 7, 17, 14])\n",
    "\n",
    "# 1. Find the country index with maximum gold\n",
    "max_gold_index = np.argmax(np_olympic_country_gold)\n",
    "print(max_gold_index)\n",
    "\n"
   ]
  },
  {
   "cell_type": "code",
   "execution_count": null,
   "id": "fbf0e39d",
   "metadata": {},
   "outputs": [],
   "source": [
    "2. Print Country with Maximum gold\n"
   ]
  },
  {
   "cell_type": "code",
   "execution_count": 24,
   "id": "a0ae3d38",
   "metadata": {},
   "outputs": [
    {
     "name": "stdout",
     "output_type": "stream",
     "text": [
      "Country with maximum gold: US\n"
     ]
    }
   ],
   "source": [
    "import numpy as np\n",
    "\n",
    "# Create the dataset\n",
    "np_olympic_country = np.array(['GBR', 'China', 'RUS', 'US', 'KOR', 'JPN', 'GER'])\n",
    "np_olympic_country_gold = np.array([29, 38, 24, 46, 13, 7, 11])\n",
    "np_olympic_country_silver = np.array([17, 28, 25, 28, 8, 14, 11])\n",
    "np_olympic_country_bronze = np.array([19, 22, 32, 29, 7, 17, 14])\n",
    "\n",
    "# 2. Print the country with maximum gold\n",
    "country_with_max_gold = np_olympic_country[max_gold_index]\n",
    "print(\"Country with maximum gold:\", country_with_max_gold)\n"
   ]
  },
  {
   "cell_type": "code",
   "execution_count": null,
   "id": "6dc64ba7",
   "metadata": {},
   "outputs": [],
   "source": [
    "3. Find countries with more than 20 gold\n",
    "medals"
   ]
  },
  {
   "cell_type": "code",
   "execution_count": 29,
   "id": "509b59ec",
   "metadata": {},
   "outputs": [
    {
     "name": "stdout",
     "output_type": "stream",
     "text": [
      "Countries with more than 20 gold: ['GBR' 'China' 'RUS' 'US']\n"
     ]
    }
   ],
   "source": [
    "import numpy as np\n",
    "# Create the dataset\n",
    "np_olympic_country = np.array(['GBR', 'China', 'RUS', 'US', 'KOR', 'JPN', 'GER'])\n",
    "np_olympic_country_gold = np.array([29, 38, 24, 46, 13, 7, 11])\n",
    "np_olympic_country_silver = np.array([17, 28, 25, 28, 8, 14, 11])\n",
    "np_olympic_country_bronze = np.array([19, 22, 32, 29, 7, 17, 14])\n",
    "# 3. Find countries with more than 20 gold\n",
    "countries_with_more_than_20_gold = np_olympic_country[np_olympic_country_gold > 20]\n",
    "print(\"Countries with more than 20 gold:\", countries_with_more_than_20_gold)\n",
    "\n"
   ]
  },
  {
   "cell_type": "code",
   "execution_count": null,
   "id": "f96ab220",
   "metadata": {},
   "outputs": [],
   "source": [
    "4. Evaluate the dataset and print the medal:\n",
    "\n",
    "1. print each country name with number of gold medals\n",
    "\n",
    "2. print each country nale with total number of medals\n"
   ]
  },
  {
   "cell_type": "code",
   "execution_count": 25,
   "id": "db1fb17c",
   "metadata": {},
   "outputs": [
    {
     "name": "stdout",
     "output_type": "stream",
     "text": [
      "GBR : 29 gold medals\n",
      "China : 38 gold medals\n",
      "RUS : 24 gold medals\n",
      "US : 46 gold medals\n",
      "KOR : 13 gold medals\n",
      "JPN : 7 gold medals\n",
      "GER : 11 gold medals\n",
      "GBR : 65 total medals\n",
      "China : 88 total medals\n",
      "RUS : 81 total medals\n",
      "US : 103 total medals\n",
      "KOR : 28 total medals\n",
      "JPN : 38 total medals\n",
      "GER : 36 total medals\n"
     ]
    }
   ],
   "source": [
    "import numpy as np\n",
    "\n",
    "# Create the dataset\n",
    "np_olympic_country = np.array(['GBR', 'China', 'RUS', 'US', 'KOR', 'JPN', 'GER'])\n",
    "np_olympic_country_gold = np.array([29, 38, 24, 46, 13, 7, 11])\n",
    "np_olympic_country_silver = np.array([17, 28, 25, 28, 8, 14, 11])\n",
    "np_olympic_country_bronze = np.array([19, 22, 32, 29, 7, 17, 14])\n",
    "# 4. Evaluate the dataset and print the medals\n",
    "# 4.1 Print each country name with the number of gold medals\n",
    "for i in range(len(np_olympic_country)):\n",
    "    print(np_olympic_country[i], \":\", np_olympic_country_gold[i], \"gold medals\")\n",
    "\n",
    "# 4.2 Print each country name with the total number of medals\n",
    "total_medals = np_olympic_country_gold + np_olympic_country_silver + np_olympic_country_bronze\n",
    "for i in range(len(np_olympic_country)):\n",
    "    print(np_olympic_country[i], \":\", total_medals[i], \"total medals\")"
   ]
  },
  {
   "cell_type": "markdown",
   "id": "1b760ab0",
   "metadata": {},
   "source": [
    "# 1. Create a 3x3x3 array with random values\n"
   ]
  },
  {
   "cell_type": "code",
   "execution_count": 34,
   "id": "896db8a4",
   "metadata": {},
   "outputs": [
    {
     "name": "stdout",
     "output_type": "stream",
     "text": [
      "[[[0.63035607 0.57133537 0.46681133]\n",
      "  [0.83391496 0.98820031 0.57909415]\n",
      "  [0.00722112 0.15192289 0.44560363]]\n",
      "\n",
      " [[0.44360948 0.96131628 0.76489098]\n",
      "  [0.48858203 0.40737193 0.22279239]\n",
      "  [0.82722107 0.39328552 0.04683581]]\n",
      "\n",
      " [[0.16705864 0.36139722 0.50239102]\n",
      "  [0.03978676 0.44741481 0.98554953]\n",
      "  [0.19081385 0.47911802 0.97035624]]]\n"
     ]
    }
   ],
   "source": [
    "import numpy as np\n",
    "\n",
    "array = np.random.rand(3, 3, 3)\n",
    "print(array)"
   ]
  },
  {
   "cell_type": "markdown",
   "id": "189c21f8",
   "metadata": {},
   "source": [
    "# 2.Create a 5x5 matrix with values 1,2,3,4 just below the diagonal"
   ]
  },
  {
   "cell_type": "code",
   "execution_count": 37,
   "id": "df8636e7",
   "metadata": {},
   "outputs": [
    {
     "name": "stdout",
     "output_type": "stream",
     "text": [
      "[[1. 0. 0. 0. 0.]\n",
      " [0. 2. 0. 0. 0.]\n",
      " [0. 0. 3. 0. 0.]\n",
      " [0. 0. 0. 4. 0.]\n",
      " [0. 0. 0. 0. 5.]]\n"
     ]
    }
   ],
   "source": [
    "import numpy as np\n",
    "\n",
    "matrix = np.zeros((5, 5))\n",
    "np.fill_diagonal(matrix[0:], [1, 2, 3, 4 ,5])\n",
    "print(matrix)"
   ]
  },
  {
   "cell_type": "markdown",
   "id": "d57e3a01",
   "metadata": {},
   "source": [
    "# 3.Create a 8x8 matrix and fill it with a checkerboard pattern"
   ]
  },
  {
   "cell_type": "code",
   "execution_count": 50,
   "id": "50fd2fea",
   "metadata": {},
   "outputs": [
    {
     "name": "stdout",
     "output_type": "stream",
     "text": [
      "[[0 1 0 1 0 1 0 1]\n",
      " [1 0 1 0 1 0 1 0]\n",
      " [0 1 0 1 0 1 0 1]\n",
      " [1 0 1 0 1 0 1 0]\n",
      " [0 1 0 1 0 1 0 1]\n",
      " [1 0 1 0 1 0 1 0]\n",
      " [0 1 0 1 0 1 0 1]\n",
      " [1 0 1 0 1 0 1 0]]\n"
     ]
    }
   ],
   "source": [
    "import numpy as np\n",
    "\n",
    "matrix = np.zeros((8, 8), dtype=int)\n",
    "matrix[1::2, ::2] = 1\n",
    "matrix[::2, 1::2] = 1\n",
    "print(matrix)"
   ]
  },
  {
   "cell_type": "markdown",
   "id": "310530ec",
   "metadata": {},
   "source": [
    "# 4. Normalize a 5x5 random matrix\n"
   ]
  },
  {
   "cell_type": "code",
   "execution_count": 53,
   "id": "78a190a0",
   "metadata": {},
   "outputs": [
    {
     "name": "stdout",
     "output_type": "stream",
     "text": [
      "[[13.  0.  0.  0.  0.]\n",
      " [ 0. 24.  0.  0.  0.]\n",
      " [ 0.  0. 33.  0.  0.]\n",
      " [ 0.  0.  0. 42.  0.]\n",
      " [ 0.  0.  0.  0. 35.]]\n",
      "[[ 0.56581831 -0.46727692 -0.46727692 -0.46727692 -0.46727692]\n",
      " [-0.46727692  1.4399758  -0.46727692 -0.46727692 -0.46727692]\n",
      " [-0.46727692 -0.46727692  2.15519557 -0.46727692 -0.46727692]\n",
      " [-0.46727692 -0.46727692 -0.46727692  2.87041534 -0.46727692]\n",
      " [-0.46727692 -0.46727692 -0.46727692 -0.46727692  2.31413329]]\n"
     ]
    }
   ],
   "source": [
    "import numpy as np\n",
    "\n",
    "matrix = np.zeros((5, 5))\n",
    "np.fill_diagonal(matrix[0:], [13, 24, 33, 42 ,35])\n",
    "print(matrix)\n",
    "normalized_matrix = (matrix - np.mean(matrix)) / np.std(matrix)\n",
    "print(normalized_matrix)"
   ]
  },
  {
   "cell_type": "markdown",
   "id": "d29639f2",
   "metadata": {},
   "source": [
    "# 5. How to find common values between two arrays?"
   ]
  },
  {
   "cell_type": "code",
   "execution_count": 55,
   "id": "ec07aa89",
   "metadata": {},
   "outputs": [
    {
     "name": "stdout",
     "output_type": "stream",
     "text": [
      "[1 2 3 4 5]\n",
      "[4 5 6 7 8]\n",
      "[4 5]\n"
     ]
    }
   ],
   "source": [
    "import numpy as np\n",
    "\n",
    "array1 = np.array([1, 2, 3, 4, 5])\n",
    "array2 = np.array([4, 5, 6, 7, 8])\n",
    "common_values = np.intersect1d(array1, array2)\n",
    "print(array1)\n",
    "print(array2)\n",
    "print(common_values)"
   ]
  },
  {
   "cell_type": "markdown",
   "id": "cf6ff279",
   "metadata": {},
   "source": [
    "# 6.How to get the dates of yesterday, today andtomorrow?"
   ]
  },
  {
   "cell_type": "code",
   "execution_count": 56,
   "id": "cf991006",
   "metadata": {},
   "outputs": [
    {
     "name": "stdout",
     "output_type": "stream",
     "text": [
      "Yesterday: 2023-09-20\n",
      "Today: 2023-09-21\n",
      "Tomorrow: 2023-09-22\n"
     ]
    }
   ],
   "source": [
    "from datetime import datetime, timedelta\n",
    "\n",
    "today = datetime.now().date()\n",
    "yesterday = today - timedelta(days=1)\n",
    "tomorrow = today + timedelta(days=1)\n",
    "\n",
    "print(\"Yesterday:\", yesterday)\n",
    "print(\"Today:\", today)\n",
    "print(\"Tomorrow:\", tomorrow)"
   ]
  },
  {
   "cell_type": "markdown",
   "id": "8f733a76",
   "metadata": {},
   "source": [
    "# 7. Consider two random array A and B, check if they are equal\n"
   ]
  },
  {
   "cell_type": "code",
   "execution_count": 60,
   "id": "036f9fc2",
   "metadata": {},
   "outputs": [
    {
     "name": "stdout",
     "output_type": "stream",
     "text": [
      "Arrays A and B are not equal.\n"
     ]
    }
   ],
   "source": [
    "import numpy as np\n",
    "A=[]\n",
    "B=[]\n",
    "A.append([1,2,3])\n",
    "A.append([1,2,3])\n",
    "A.append([1,2,3])\n",
    "A.append([1,2,3])\n",
    "A.append([1,2,3])\n",
    "B.append([4,5,3])\n",
    "B.append([4,5,3])\n",
    "B.append([4,5,3])\n",
    "B.append([4,5,3])\n",
    "B.append([4,5,3])\n",
    "if np.array_equal(A, B):\n",
    "    print(\"Arrays A and B are equal.\")\n",
    "else:\n",
    "    print(\"Arrays A and B are not equal.\")\n"
   ]
  },
  {
   "cell_type": "markdown",
   "id": "3b11ee6d",
   "metadata": {},
   "source": [
    "# 8.Create random vector of size 10 and replace the maximum value by 0"
   ]
  },
  {
   "cell_type": "code",
   "execution_count": 63,
   "id": "1050aa64",
   "metadata": {},
   "outputs": [
    {
     "name": "stdout",
     "output_type": "stream",
     "text": [
      "Modified vector: [0.52097316 0.2072545  0.37023018 0.10805183 0.2123479  0.64830087\n",
      " 0.75426419 0.18770742 0.         0.18267943]\n"
     ]
    }
   ],
   "source": [
    "import numpy as np\n",
    "\n",
    "vector = np.random.rand(10)  # Random vector of size 10\n",
    "max_value = np.max(vector)  # Find the maximum value in the vector\n",
    "vector[np.argmax(vector)] = 0  # Replace the maximum value with 0\n",
    "\n",
    "print(\"Modified vector:\", vector)"
   ]
  },
  {
   "cell_type": "markdown",
   "id": "b028fc54",
   "metadata": {},
   "source": [
    "# 9. How to print all the values of an array?\n"
   ]
  },
  {
   "cell_type": "code",
   "execution_count": 66,
   "id": "cba87848",
   "metadata": {},
   "outputs": [
    {
     "name": "stdout",
     "output_type": "stream",
     "text": [
      "1\n",
      "2\n",
      "3\n",
      "4\n",
      "5\n"
     ]
    }
   ],
   "source": [
    "import numpy as np\n",
    "\n",
    "array = np.array([1, 2, 3, 4, 5])  \n",
    "\n",
    "for element in array:\n",
    "    print(element)"
   ]
  },
  {
   "cell_type": "markdown",
   "id": "f9b1d1fe",
   "metadata": {},
   "source": [
    "# 10.Subtract the mean of each row of a matrix\n"
   ]
  },
  {
   "cell_type": "code",
   "execution_count": 67,
   "id": "9adf8b93",
   "metadata": {},
   "outputs": [
    {
     "name": "stdout",
     "output_type": "stream",
     "text": [
      "Result matrix: [[-1.  0.  1.]\n",
      " [-1.  0.  1.]\n",
      " [-1.  0.  1.]]\n"
     ]
    }
   ],
   "source": [
    "import numpy as np\n",
    "\n",
    "matrix = np.array([[1, 2, 3], [4, 5, 6], [7, 8, 9]])  # Example matrix\n",
    "\n",
    "mean = np.mean(matrix, axis=1)  # Calculate the mean of each row\n",
    "result = matrix - mean[:, np.newaxis]  # Subtract the mean from each row\n",
    "\n",
    "print(\"Result matrix:\", result)\n"
   ]
  },
  {
   "cell_type": "markdown",
   "id": "affe36c9",
   "metadata": {},
   "source": [
    "# 11.Consider a given vector, how to add 1 to each element indexed by a second vector (be careful with repeated indices)?"
   ]
  },
  {
   "cell_type": "code",
   "execution_count": 68,
   "id": "9dcb3646",
   "metadata": {},
   "outputs": [
    {
     "name": "stdout",
     "output_type": "stream",
     "text": [
      "Modified vector: [2 4 3 5 5]\n"
     ]
    }
   ],
   "source": [
    "import numpy as np\n",
    "\n",
    "vector = np.array([1, 2, 3, 4, 5])  # Example vector\n",
    "indices = np.array([0, 1, 1, 3])  # Example indices\n",
    "\n",
    "vector += np.bincount(indices, minlength=len(vector))\n",
    "\n",
    "print(\"Modified vector:\", vector)\n"
   ]
  },
  {
   "cell_type": "markdown",
   "id": "7d5c48a9",
   "metadata": {},
   "source": [
    "# 12.How to get the diagonal of a dot product?\n"
   ]
  },
  {
   "cell_type": "code",
   "execution_count": 69,
   "id": "0f102fbd",
   "metadata": {},
   "outputs": [
    {
     "name": "stdout",
     "output_type": "stream",
     "text": [
      "Diagonal of the dot product: [19 50]\n"
     ]
    }
   ],
   "source": [
    "import numpy as np\n",
    "\n",
    "matrix1 = np.array([[1, 2], [3, 4]])  # First matrix\n",
    "matrix2 = np.array([[5, 6], [7, 8]])  # Second matrix\n",
    "\n",
    "dot_product = np.dot(matrix1, matrix2)  # Calculate the dot product\n",
    "diagonal = np.diag(dot_product)  # Get the diagonal elements\n",
    "\n",
    "print(\"Diagonal of the dot product:\", diagonal)"
   ]
  },
  {
   "cell_type": "markdown",
   "id": "2e149afb",
   "metadata": {},
   "source": [
    "# 13.How to find the most frequent value in anarray?\n"
   ]
  },
  {
   "cell_type": "code",
   "execution_count": 70,
   "id": "774bb1cf",
   "metadata": {},
   "outputs": [
    {
     "name": "stdout",
     "output_type": "stream",
     "text": [
      "Most frequent value: 3\n"
     ]
    }
   ],
   "source": [
    "import numpy as np\n",
    "\n",
    "def find_most_frequent_value(arr):\n",
    "    unique_values, counts = np.unique(arr, return_counts=True)\n",
    "    max_count_index = np.argmax(counts)\n",
    "    most_frequent_value = unique_values[max_count_index]\n",
    "    return most_frequent_value\n",
    "\n",
    "my_array = np.array([1, 2, 3, 2, 1, 2, 3, 3, 3])\n",
    "most_frequent = find_most_frequent_value(my_array)\n",
    "print(\"Most frequent value:\", most_frequent)"
   ]
  },
  {
   "cell_type": "markdown",
   "id": "1d1eb460",
   "metadata": {},
   "source": [
    "# 14.How to get the n largest values of an array\n"
   ]
  },
  {
   "cell_type": "code",
   "execution_count": 75,
   "id": "1b271b63",
   "metadata": {},
   "outputs": [
    {
     "name": "stdout",
     "output_type": "stream",
     "text": [
      "N largest values: [9]\n"
     ]
    }
   ],
   "source": [
    "import numpy as np\n",
    "\n",
    "def get_n_largest_values(arr, n):\n",
    "    sorted_indices = np.argsort(arr)\n",
    "    n_largest_indices = sorted_indices[-n:]\n",
    "    n_largest_values = arr[n_largest_indices]\n",
    "    return n_largest_values\n",
    "\n",
    "my_array = np.array([5, 2, 9, 1, 7, 3])\n",
    "n_largest = get_n_largest_values(my_array, 1)\n",
    "print(\"N largest values:\", n_largest)\n"
   ]
  },
  {
   "cell_type": "markdown",
   "id": "f05b385e",
   "metadata": {},
   "source": [
    "# 15.How to create a record array from a regular array?"
   ]
  },
  {
   "cell_type": "code",
   "execution_count": 83,
   "id": "7ff9c9f4",
   "metadata": {},
   "outputs": [
    {
     "name": "stdout",
     "output_type": "stream",
     "text": [
      "Record array: [[(1, 1. , 1) (2, 2.5, 2) (4, 4. , 4)]\n",
      " [(2, 2. , 2) (3, 3.7, 3) (8, 8. , 8)]\n",
      " [(3, 3. , 3) (4, 4.2, 4) (6, 6. , 6)]]\n"
     ]
    }
   ],
   "source": [
    "import numpy as np\n",
    "\n",
    "def create_record_array(regular_array):\n",
    "    record_array = np.array(regular_array, dtype=[('field1', int), ('field2', float), ('field3', int)])\n",
    "    return record_array\n",
    "\n",
    "# Example usage\n",
    "my_array = [[1, 2.5, 4], [2, 3.7, 8], [3, 4.2, 6]]\n",
    "record_array = create_record_array(my_array)\n",
    "print(\"Record array:\", record_array)"
   ]
  },
  {
   "cell_type": "markdown",
   "id": "e5da3fbd",
   "metadata": {},
   "source": [
    "# 16. How to swap two rows of an array?\n"
   ]
  },
  {
   "cell_type": "code",
   "execution_count": 84,
   "id": "34f5fd6c",
   "metadata": {},
   "outputs": [
    {
     "name": "stdout",
     "output_type": "stream",
     "text": [
      "Swapped array:\n",
      "[[7 8 9]\n",
      " [4 5 6]\n",
      " [1 2 3]]\n"
     ]
    }
   ],
   "source": [
    "import numpy as np\n",
    "\n",
    "def swap_rows(arr, row1, row2):\n",
    "    arr[[row1, row2]] = arr[[row2, row1]]\n",
    "    return arr\n",
    "\n",
    "# Example usage\n",
    "my_array = np.array([[1, 2, 3], [4, 5, 6], [7, 8, 9]])\n",
    "swapped_array = swap_rows(my_array, 0, 2)\n",
    "print(\"Swapped array:\")\n",
    "print(swapped_array)\n"
   ]
  },
  {
   "cell_type": "markdown",
   "id": "b75e19ac",
   "metadata": {},
   "source": [
    "# 17. Write python code to reshape to the next dimension of numpy array?"
   ]
  },
  {
   "cell_type": "code",
   "execution_count": 85,
   "id": "a29512ea",
   "metadata": {},
   "outputs": [
    {
     "name": "stdout",
     "output_type": "stream",
     "text": [
      "Reshaped array:\n",
      "[[1 2 3]\n",
      " [4 5 6]]\n"
     ]
    }
   ],
   "source": [
    "import numpy as np\n",
    "\n",
    "def reshape_to_next_dimension(arr):\n",
    "    reshaped_array = np.reshape(arr, (arr.shape[0], -1))\n",
    "    return reshaped_array\n",
    "\n",
    "# Example usage\n",
    "my_array = np.array([[1, 2, 3], [4, 5, 6]])\n",
    "reshaped_array = reshape_to_next_dimension(my_array)\n",
    "print(\"Reshaped array:\")\n",
    "print(reshaped_array)"
   ]
  },
  {
   "cell_type": "code",
   "execution_count": null,
   "id": "51858f1a",
   "metadata": {},
   "outputs": [],
   "source": []
  }
 ],
 "metadata": {
  "kernelspec": {
   "display_name": "Python 3 (ipykernel)",
   "language": "python",
   "name": "python3"
  },
  "language_info": {
   "codemirror_mode": {
    "name": "ipython",
    "version": 3
   },
   "file_extension": ".py",
   "mimetype": "text/x-python",
   "name": "python",
   "nbconvert_exporter": "python",
   "pygments_lexer": "ipython3",
   "version": "3.11.4"
  }
 },
 "nbformat": 4,
 "nbformat_minor": 5
}
