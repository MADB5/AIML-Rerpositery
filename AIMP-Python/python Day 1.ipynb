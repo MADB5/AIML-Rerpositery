{
 "cells": [
  {
   "cell_type": "markdown",
   "id": "96808e85",
   "metadata": {},
   "source": [
    "# Language Fundamentals:\n",
    "\n",
    "1. Manipulate using a list.\n",
    "\n",
    "To add new elements to the end of the list\n",
    "\n",
    "To reverse elements in the list\n",
    "\n",
    "To display the same list of elements multiple times.\n",
    "\n",
    "To concatenate two list\n",
    "\n",
    "To sort the elements in the list in ascending order."
   ]
  },
  {
   "cell_type": "code",
   "execution_count": 3,
   "id": "66abb6ef",
   "metadata": {},
   "outputs": [],
   "source": [
    "# To Create a list\n",
    "list = [1, 2, 3, 4, 5]\n"
   ]
  },
  {
   "cell_type": "code",
   "execution_count": 4,
   "id": "f9a9dd3a",
   "metadata": {},
   "outputs": [
    {
     "name": "stdout",
     "output_type": "stream",
     "text": [
      "[1, 2, 3, 4, 5, 6, 7]\n"
     ]
    }
   ],
   "source": [
    "# To Add new elements to the end of the list\n",
    "list.append(6)\n",
    "list.append(7)\n",
    "\n",
    "print(list)\n",
    "\n"
   ]
  },
  {
   "cell_type": "code",
   "execution_count": 5,
   "id": "c6ede32c",
   "metadata": {},
   "outputs": [
    {
     "name": "stdout",
     "output_type": "stream",
     "text": [
      "[7, 6, 5, 4, 3, 2, 1]\n"
     ]
    }
   ],
   "source": [
    "# To Reverse the elements in the list\n",
    "list.reverse()\n",
    "\n",
    "print(list)\n",
    "\n"
   ]
  },
  {
   "cell_type": "code",
   "execution_count": 9,
   "id": "2452faa9",
   "metadata": {},
   "outputs": [
    {
     "name": "stdout",
     "output_type": "stream",
     "text": [
      "[1, 2, 3, 4, 5, 6]\n",
      "[1, 2, 3, 4, 5, 6]\n"
     ]
    }
   ],
   "source": [
    "# To Display the same list of elements multiple times\n",
    "for i in range(2):\n",
    "  print(list)\n",
    "\n"
   ]
  },
  {
   "cell_type": "code",
   "execution_count": 7,
   "id": "50340b6b",
   "metadata": {},
   "outputs": [
    {
     "name": "stdout",
     "output_type": "stream",
     "text": [
      "[1, 2, 3, 4, 5, 6]\n"
     ]
    }
   ],
   "source": [
    "# To Concatenate two lists\n",
    "list1 = [1, 2, 3]\n",
    "list2 = [4, 5, 6]\n",
    "\n",
    "list = list1 + list2\n",
    "\n",
    "print(list)\n",
    "\n"
   ]
  },
  {
   "cell_type": "code",
   "execution_count": 8,
   "id": "67e3b06c",
   "metadata": {},
   "outputs": [
    {
     "name": "stdout",
     "output_type": "stream",
     "text": [
      "[1, 2, 3, 4, 5, 6]\n"
     ]
    }
   ],
   "source": [
    "# To Sort the elements in the list in ascending order\n",
    "list.sort()\n",
    "\n",
    "print(list)"
   ]
  },
  {
   "cell_type": "markdown",
   "id": "b5d8df32",
   "metadata": {},
   "source": [
    "# 2. Write a Python program to do in the tuples.\n",
    "\n",
    "Manipulate using tuples.\n",
    "\n",
    "To add new elements to the end of the tuples\n",
    "\n",
    "To reverse elements in the list\n",
    "\n",
    "To display the elements of the same tuple multiple times. \n",
    "\n",
    "To concatenate two tuples\n",
    "\n",
    "To sort the elements in the list in ascending order."
   ]
  },
  {
   "cell_type": "code",
   "execution_count": 12,
   "id": "6f34fd5c",
   "metadata": {},
   "outputs": [
    {
     "name": "stdout",
     "output_type": "stream",
     "text": [
      "(1, 2, 3, 4, 5)\n"
     ]
    }
   ],
   "source": [
    "# Create a tuple\n",
    "tuple = (1, 2, 3, 4, 5)\n",
    "print(tuple)\n",
    "\n"
   ]
  },
  {
   "cell_type": "code",
   "execution_count": null,
   "id": "e951be51",
   "metadata": {},
   "outputs": [],
   "source": [
    "# To Add new elements to the end of the tuple\n",
    "# This is not possible because tuples are immutable\n",
    "\n"
   ]
  },
  {
   "cell_type": "code",
   "execution_count": 13,
   "id": "7143aa29",
   "metadata": {},
   "outputs": [
    {
     "name": "stdout",
     "output_type": "stream",
     "text": [
      "(5, 4, 3, 2, 1)\n"
     ]
    }
   ],
   "source": [
    "# to Reverse the elements in the tuple\n",
    "tuple = tuple[::-1]\n",
    "\n",
    "print(tuple)\n",
    "\n"
   ]
  },
  {
   "cell_type": "code",
   "execution_count": 14,
   "id": "6c1957e8",
   "metadata": {},
   "outputs": [
    {
     "name": "stdout",
     "output_type": "stream",
     "text": [
      "(5, 4, 3, 2, 1)\n",
      "(5, 4, 3, 2, 1)\n"
     ]
    }
   ],
   "source": [
    "# To Display the elements of the same tuple multiple times\n",
    "for i in range(2):\n",
    "  print(tuple)\n",
    "\n"
   ]
  },
  {
   "cell_type": "code",
   "execution_count": 15,
   "id": "c5f12161",
   "metadata": {},
   "outputs": [
    {
     "name": "stdout",
     "output_type": "stream",
     "text": [
      "(1, 2, 3, 4, 5, 6)\n"
     ]
    }
   ],
   "source": [
    "# To Concatenate two tuples\n",
    "t1 = (1, 2, 3)\n",
    "t2 = (4, 5, 6)\n",
    "\n",
    "tuple = t1 + t2\n",
    "\n",
    "print(tuple)\n",
    "\n"
   ]
  },
  {
   "cell_type": "code",
   "execution_count": null,
   "id": "07649e79",
   "metadata": {},
   "outputs": [],
   "source": [
    "# To Sort the elements in the tuple in ascending order\n",
    "# This is not possible because tuples are immutable"
   ]
  },
  {
   "cell_type": "markdown",
   "id": "31b32ea1",
   "metadata": {},
   "source": [
    "# 3.Write a python program to implement the following using list.\n",
    "\n",
    "Create a list with integers (minimum 10 numbers)\n",
    "\n",
    "How to display the last number in the list\n",
    "\n",
    "Command for displaying the values from the list [0:4] \n",
    "\n",
    "Command for displaying the values from the list [2:]\n",
    "\n",
    "Command for displaying the values from the list [:6]"
   ]
  },
  {
   "cell_type": "code",
   "execution_count": 22,
   "id": "4dace7db",
   "metadata": {},
   "outputs": [
    {
     "name": "stdout",
     "output_type": "stream",
     "text": [
      "[1, 2, 3, 4, 5, 6, 7, 8, 9, 10, 11, 12]\n"
     ]
    }
   ],
   "source": [
    "# Create a list with integers\n",
    "list = [1, 2, 3, 4, 5, 6, 7, 8,9,10,11,12]\n",
    "print(list)"
   ]
  },
  {
   "cell_type": "code",
   "execution_count": 23,
   "id": "8451ff14",
   "metadata": {},
   "outputs": [
    {
     "name": "stdout",
     "output_type": "stream",
     "text": [
      "12\n"
     ]
    }
   ],
   "source": [
    "# Display the last number in the list\n",
    "print(list[-1])"
   ]
  },
  {
   "cell_type": "code",
   "execution_count": 24,
   "id": "295c5964",
   "metadata": {},
   "outputs": [
    {
     "name": "stdout",
     "output_type": "stream",
     "text": [
      "[1, 2, 3, 4]\n"
     ]
    }
   ],
   "source": [
    "# Command for displaying the values from the list [0:4]\n",
    "print(list[0:4])"
   ]
  },
  {
   "cell_type": "code",
   "execution_count": 25,
   "id": "02ad94f4",
   "metadata": {},
   "outputs": [
    {
     "name": "stdout",
     "output_type": "stream",
     "text": [
      "[3, 4, 5, 6, 7, 8, 9, 10, 11, 12]\n"
     ]
    }
   ],
   "source": [
    "# Command for displaying the values from the list [2:]\n",
    "print(list[2:])"
   ]
  },
  {
   "cell_type": "code",
   "execution_count": 26,
   "id": "c0b5d84a",
   "metadata": {},
   "outputs": [
    {
     "name": "stdout",
     "output_type": "stream",
     "text": [
      "[1, 2, 3, 4, 5, 6]\n"
     ]
    }
   ],
   "source": [
    "# Command for displaying the values from the list [:6]\n",
    "print(list[:6])"
   ]
  },
  {
   "cell_type": "markdown",
   "id": "13db9d2e",
   "metadata": {},
   "source": [
    "# 4. Write a Python program: tuple1 = (10,50,20,40,30)\n",
    "\n",
    "\n",
    "To display the elements 10 and 50 from tuple1\n",
    "\n",
    "To display the length of a tuple1..\n",
    "\n",
    "To find the minimum element from tuple1.\n",
    "\n",
    "To add all elements in the tuple1.\n",
    "\n",
    "To display the same tuple1 multiple times.."
   ]
  },
  {
   "cell_type": "code",
   "execution_count": 27,
   "id": "8e2570c8",
   "metadata": {},
   "outputs": [
    {
     "name": "stdout",
     "output_type": "stream",
     "text": [
      "(10, 50, 20, 40, 30)\n"
     ]
    }
   ],
   "source": [
    "tuple1 = (10, 50, 20, 40, 30)\n",
    "print(tuple1)"
   ]
  },
  {
   "cell_type": "code",
   "execution_count": 33,
   "id": "72ba4c7b",
   "metadata": {},
   "outputs": [
    {
     "name": "stdout",
     "output_type": "stream",
     "text": [
      "10 50\n"
     ]
    }
   ],
   "source": [
    "# Display the elements 10 and 50 from tuple1\n",
    "print(tuple1[0], tuple1[1])"
   ]
  },
  {
   "cell_type": "code",
   "execution_count": 29,
   "id": "1ae82ed7",
   "metadata": {},
   "outputs": [
    {
     "name": "stdout",
     "output_type": "stream",
     "text": [
      "5\n"
     ]
    }
   ],
   "source": [
    "# Display the length of a tuple1\n",
    "print(len(tuple1))"
   ]
  },
  {
   "cell_type": "code",
   "execution_count": 30,
   "id": "b215cfdd",
   "metadata": {},
   "outputs": [
    {
     "name": "stdout",
     "output_type": "stream",
     "text": [
      "10\n"
     ]
    }
   ],
   "source": [
    "# Find the minimum element from tuple1\n",
    "print(min(tuple1))"
   ]
  },
  {
   "cell_type": "code",
   "execution_count": 31,
   "id": "c7955910",
   "metadata": {},
   "outputs": [
    {
     "name": "stdout",
     "output_type": "stream",
     "text": [
      "150\n"
     ]
    }
   ],
   "source": [
    "# Add all elements in the tuple1\n",
    "print(sum(tuple1))"
   ]
  },
  {
   "cell_type": "code",
   "execution_count": 32,
   "id": "78510cb8",
   "metadata": {},
   "outputs": [
    {
     "name": "stdout",
     "output_type": "stream",
     "text": [
      "(10, 50, 20, 40, 30)\n",
      "(10, 50, 20, 40, 30)\n",
      "(10, 50, 20, 40, 30)\n"
     ]
    }
   ],
   "source": [
    "# Display the same tuple1 multiple times\n",
    "for i in range(3):\n",
    "  print(tuple1)"
   ]
  },
  {
   "cell_type": "markdown",
   "id": "d9194f05",
   "metadata": {},
   "source": [
    "# 5. Write a Python program:\n",
    "\n",
    "\n",
    "To calculate the length of a string\n",
    "\n",
    "To reverse words in a string\n",
    "\n",
    "To display the same string multiple times\n",
    "\n",
    "To concatenate two strings\n",
    "\n",
    "Str1=\" South India\", using string slicing to display \"India\""
   ]
  },
  {
   "cell_type": "code",
   "execution_count": 34,
   "id": "c0b1ec7a",
   "metadata": {},
   "outputs": [
    {
     "name": "stdout",
     "output_type": "stream",
     "text": [
      "South India\n"
     ]
    }
   ],
   "source": [
    "\n",
    "str1 = \"South India\"\n",
    "print (str1)"
   ]
  },
  {
   "cell_type": "code",
   "execution_count": 35,
   "id": "e38c186c",
   "metadata": {},
   "outputs": [
    {
     "name": "stdout",
     "output_type": "stream",
     "text": [
      "11\n"
     ]
    }
   ],
   "source": [
    "# Calculate the length of the string\n",
    "print(len(str1))"
   ]
  },
  {
   "cell_type": "code",
   "execution_count": 36,
   "id": "5cbaf369",
   "metadata": {},
   "outputs": [
    {
     "name": "stdout",
     "output_type": "stream",
     "text": [
      "aidnI htuoS\n"
     ]
    }
   ],
   "source": [
    "# Reverse the words in the string\n",
    "str2 = str1[::-1]\n",
    "print(str2)"
   ]
  },
  {
   "cell_type": "code",
   "execution_count": 38,
   "id": "1c982922",
   "metadata": {},
   "outputs": [
    {
     "name": "stdout",
     "output_type": "stream",
     "text": [
      "South India\n",
      "South India\n"
     ]
    }
   ],
   "source": [
    "# Display the same string multiple times\n",
    "for i in range(2):\n",
    "  print(str1)"
   ]
  },
  {
   "cell_type": "code",
   "execution_count": 39,
   "id": "501c054b",
   "metadata": {},
   "outputs": [
    {
     "name": "stdout",
     "output_type": "stream",
     "text": [
      "South India North India\n"
     ]
    }
   ],
   "source": [
    "# Concatenate two strings\n",
    "str3 = str1 + \" North India\"\n",
    "print(str3)"
   ]
  },
  {
   "cell_type": "code",
   "execution_count": 41,
   "id": "ba538480",
   "metadata": {},
   "outputs": [
    {
     "name": "stdout",
     "output_type": "stream",
     "text": [
      "India\n"
     ]
    }
   ],
   "source": [
    "# Using string slicing to display \"India\"\n",
    "print(str1[6:])"
   ]
  },
  {
   "cell_type": "markdown",
   "id": "c0a44b05",
   "metadata": {},
   "source": [
    "# 6: Perform the following:\n",
    "\n",
    "Creating the Dictionary.\n",
    "\n",
    "Accessing values and keys in the Dictionary.\n",
    "\n",
    "Updating the dictionary using a function.\n",
    "\n",
    "Clear and delete the dictionary values."
   ]
  },
  {
   "cell_type": "code",
   "execution_count": 42,
   "id": "3db31bbd",
   "metadata": {},
   "outputs": [
    {
     "name": "stdout",
     "output_type": "stream",
     "text": [
      "{'name': 'John Doe', 'age': 30, 'country': 'India'}\n"
     ]
    }
   ],
   "source": [
    "\n",
    "# Create a dictionary\n",
    "dict = {'name': 'John Doe', 'age': 30, 'country': 'India'}\n",
    "print(dict)"
   ]
  },
  {
   "cell_type": "code",
   "execution_count": 43,
   "id": "25bbff1e",
   "metadata": {},
   "outputs": [
    {
     "name": "stdout",
     "output_type": "stream",
     "text": [
      "John Doe\n",
      "30\n",
      "India\n"
     ]
    }
   ],
   "source": [
    "# Access values and keys in the dictionary\n",
    "print(dict['name'])    \n",
    "print(dict['age'])    \n",
    "print(dict['country'])  \n",
    "\n"
   ]
  },
  {
   "cell_type": "code",
   "execution_count": 47,
   "id": "f47461f1",
   "metadata": {},
   "outputs": [
    {
     "name": "stdout",
     "output_type": "stream",
     "text": [
      "{'age': 31}\n",
      "31\n"
     ]
    }
   ],
   "source": [
    "# Update the dictionary using a function\n",
    "def update_dict(dict, key, value):\n",
    "  dict[key] = value\n",
    "\n",
    "update_dict(dict, 'age', 31)\n",
    "print(dict['age'])   \n"
   ]
  },
  {
   "cell_type": "code",
   "execution_count": 45,
   "id": "4edfe809",
   "metadata": {},
   "outputs": [
    {
     "name": "stdout",
     "output_type": "stream",
     "text": [
      "{}\n"
     ]
    }
   ],
   "source": [
    "# Clear and delete the dictionary values\n",
    "dict.clear()\n",
    "\n",
    "print(dict)"
   ]
  },
  {
   "cell_type": "code",
   "execution_count": 49,
   "id": "e115a9c0",
   "metadata": {},
   "outputs": [
    {
     "name": "stdout",
     "output_type": "stream",
     "text": [
      "[1, 2, 3, 4, 10, 5]\n"
     ]
    }
   ],
   "source": [
    "#7. Python program to insert a number to any position in a list. \n",
    "# Create a list\n",
    "list = [1, 2, 3, 4, 5]\n",
    "\n",
    "# Inserting the number  at middle of the list\n",
    "list.insert(4, 10)\n",
    "\n",
    "print(list)\n"
   ]
  },
  {
   "cell_type": "code",
   "execution_count": 50,
   "id": "d92a5918",
   "metadata": {},
   "outputs": [
    {
     "name": "stdout",
     "output_type": "stream",
     "text": [
      "[1, 2, 4, 5]\n"
     ]
    }
   ],
   "source": [
    "# 8.Python program to delete an element from a list by index.\n",
    "# Create a list\n",
    "list = [1, 2, 3, 4, 5]\n",
    "\n",
    "# Delete the element at the index 2\n",
    "list.pop(2)\n",
    "\n",
    "# Print the list\n",
    "print(list)"
   ]
  },
  {
   "cell_type": "code",
   "execution_count": 51,
   "id": "b8cf6ca5",
   "metadata": {},
   "outputs": [
    {
     "name": "stdout",
     "output_type": "stream",
     "text": [
      "1\n",
      "2\n",
      "3\n",
      "4\n",
      "5\n",
      "6\n",
      "7\n",
      "8\n",
      "9\n",
      "10\n",
      "11\n",
      "12\n",
      "13\n",
      "14\n",
      "15\n",
      "16\n",
      "17\n",
      "18\n",
      "19\n",
      "20\n",
      "21\n",
      "22\n",
      "23\n",
      "24\n",
      "25\n",
      "26\n",
      "27\n",
      "28\n",
      "29\n",
      "30\n",
      "31\n",
      "32\n",
      "33\n",
      "34\n",
      "35\n",
      "36\n",
      "37\n",
      "38\n",
      "39\n",
      "40\n",
      "41\n",
      "42\n",
      "43\n",
      "44\n",
      "45\n",
      "46\n",
      "47\n",
      "48\n",
      "49\n",
      "50\n",
      "51\n",
      "52\n",
      "53\n",
      "54\n",
      "55\n",
      "56\n",
      "57\n",
      "58\n",
      "59\n",
      "60\n",
      "61\n",
      "62\n",
      "63\n",
      "64\n",
      "65\n",
      "66\n",
      "67\n",
      "68\n",
      "69\n",
      "70\n",
      "71\n",
      "72\n",
      "73\n",
      "74\n",
      "75\n",
      "76\n",
      "77\n",
      "78\n",
      "79\n",
      "80\n",
      "81\n",
      "82\n",
      "83\n",
      "84\n",
      "85\n",
      "86\n",
      "87\n",
      "88\n",
      "89\n",
      "90\n",
      "91\n",
      "92\n",
      "93\n",
      "94\n",
      "95\n",
      "96\n",
      "97\n",
      "98\n",
      "99\n",
      "100\n"
     ]
    }
   ],
   "source": [
    "# 9.Write a program to display a number from 1 to 100.\n",
    "\n",
    "for i in range(1, 101):\n",
    "  print(i)"
   ]
  },
  {
   "cell_type": "code",
   "execution_count": 53,
   "id": "72754365",
   "metadata": {},
   "outputs": [
    {
     "name": "stdout",
     "output_type": "stream",
     "text": [
      "21\n"
     ]
    }
   ],
   "source": [
    "#10.Write a Python program to find the sum of all items in a tuple\n",
    "\n",
    "\n",
    "tuple = (1, 2, 3, 4, 5,6)\n",
    "\n",
    "sum = 0\n",
    "for i in tuple:\n",
    "  sum += i\n",
    "\n",
    "print(sum)"
   ]
  },
  {
   "cell_type": "markdown",
   "id": "0a42603e",
   "metadata": {},
   "source": [
    "# 11. Create a dictionary containing three lambda functions square, cube and square root.\n",
    "\n",
    "\n",
    "E.g. dict('Square': function for squaring, 'Cube': function for cube, 'Squareroot\": function for square root)\n",
    "\n",
    "Pass the values (input from the user) to the functions in the dictionary respectively.\n",
    "\n",
    "Then add the outputs of each function and print it.\n"
   ]
  },
  {
   "cell_type": "code",
   "execution_count": 57,
   "id": "0649c637",
   "metadata": {},
   "outputs": [
    {
     "name": "stdout",
     "output_type": "stream",
     "text": [
      "Enter a number: 12\n",
      "The square of 12 is 144\n",
      "The cube of 12 is 1728\n",
      "The square root of 12 is 3.4641016151377544\n",
      "sum of three is 1875.4641016151377\n"
     ]
    }
   ],
   "source": [
    "# Create a dictionary\n",
    "dict = {'Square': lambda x: x**2,\n",
    "         'Cube': lambda x: x**3,\n",
    "         'Squareroot': lambda x: x**(1/2)}\n",
    "\n",
    "num = int(input(\"Enter a number: \"))\n",
    "\n",
    "square = dict['Square'](num)\n",
    "cube = dict['Cube'](num)\n",
    "sqrt = dict['Squareroot'](num)\n",
    "\n",
    "print(\"The square of\", num, \"is\", square)\n",
    "print(\"The cube of\", num, \"is\", cube)\n",
    "print(\"The square root of\", num, \"is\", sqrt)\n",
    "sum=(square+cube+sqrt)\n",
    "print(\"sum of three is\" ,sum)"
   ]
  },
  {
   "cell_type": "markdown",
   "id": "e55d58af",
   "metadata": {},
   "source": [
    "# 12. A list of words is given. Find the words from the list that have their second character in uppercase.\n",
    "\n",
    "Is=['hello', 'Dear', 'how', 'ARe', 'You']\n",
    "\n"
   ]
  },
  {
   "cell_type": "code",
   "execution_count": 63,
   "id": "26a62da2",
   "metadata": {},
   "outputs": [
    {
     "name": "stdout",
     "output_type": "stream",
     "text": [
      "ARe\n"
     ]
    }
   ],
   "source": [
    "# A list of words\n",
    "Is = ['hello', 'Dear', 'how', 'ARe', 'You']\n",
    "\n",
    "# Find the words from the list that have their second character in uppercase\n",
    "for word in Is:\n",
    "  if word[1].isupper():\n",
    "    print(word)"
   ]
  },
  {
   "cell_type": "markdown",
   "id": "849bbac3",
   "metadata": {},
   "source": [
    "# 13. A dictionary of names and their weights on earth is given. Find how much they will weigh on the moon. (Use map and lambda functions) Formula: wMoon = (wEarth GMoon) / GEarth\n",
    "\n",
    "1.Weight of people in kg\n",
    "\n",
    "WeightOnEarth ('John':45, 'Shelly':65, 'Marry':35)\n",
    "\n",
    "\n",
    "2.Gravitational force on the Moon: 1.622 m/s2\n",
    "\n",
    "GMoon = 1.622\n",
    "\n",
    "\n",
    "3.Gravitational force on the Earth: 9.81 m/s2\n",
    "\n",
    "GEarth = 9.81"
   ]
  },
  {
   "cell_type": "code",
   "execution_count": 65,
   "id": "2e46be7e",
   "metadata": {},
   "outputs": [
    {
     "name": "stdout",
     "output_type": "stream",
     "text": [
      "John will weigh 7.440366972477065 kg on the moon\n",
      "Shelly will weigh 10.747196738022426 kg on the moon\n",
      "Marry will weigh 5.786952089704383 kg on the moon\n"
     ]
    }
   ],
   "source": [
    "# Weight of people in kg\n",
    "WeightOnEarth = {'John': 45, 'Shelly': 65, 'Marry': 35}\n",
    "\n",
    "# Gravitational force on the Moon: 1.622 m/s²\n",
    "GMoon = 1.622\n",
    "\n",
    "# Gravitational force on the Earth: 9.81 m/s²\n",
    "GEarth = 9.81\n",
    "\n",
    "# how much they will weigh on the moon\n",
    "w_moon = {name: (weight * GMoon) / GEarth for name, weight in WeightOnEarth.items()}\n",
    "\n",
    "# Print the results\n",
    "for name, weight in w_moon.items():\n",
    "  print(f\"{name} will weigh {weight} kg on the moon\")\n"
   ]
  },
  {
   "cell_type": "markdown",
   "id": "8aa909de",
   "metadata": {},
   "source": [
    "# Control Structures\n",
    "    1.Write a python program to find the first N Prime numbers."
   ]
  },
  {
   "cell_type": "code",
   "execution_count": 72,
   "id": "bb1d4c6e",
   "metadata": {},
   "outputs": [
    {
     "name": "stdout",
     "output_type": "stream",
     "text": [
      "[2, 3, 5, 7]\n"
     ]
    }
   ],
   "source": [
    "\n",
    "def is_prime(n):\n",
    "  if n <= 1:\n",
    "    return False\n",
    "  for i in range(2, n):\n",
    "    if n % i == 0:\n",
    "      return False\n",
    "  return True\n",
    "\n",
    "\n",
    "def first_n_primes(n):\n",
    "  primes = []\n",
    "  for i in range(2, n + 1):\n",
    "    if is_prime(i):\n",
    "      primes.append(i)\n",
    "  return primes\n",
    "\n",
    "\n",
    "print(first_n_primes(10))"
   ]
  },
  {
   "cell_type": "markdown",
   "id": "35dde9bd",
   "metadata": {},
   "source": [
    "# 2. Write the python code that calculates the salary of an employee. Prompt the user to enter the Basic Salary, HRA, TA, and DA. Add these components to calculate the Gross Salary. Also, deduct 10% of salary from the Gross Salary to be paid as tax and display gross minus tax as net salary."
   ]
  },
  {
   "cell_type": "code",
   "execution_count": 75,
   "id": "2963425e",
   "metadata": {},
   "outputs": [
    {
     "name": "stdout",
     "output_type": "stream",
     "text": [
      "Enter the basic salary: 30000\n",
      "Enter the HRA: 3456\n",
      "Enter the TA: 5647\n",
      "Enter the DA: 88766\n",
      "Gross salary: 127869.0\n",
      "Tax: 12786.900000000001\n",
      "Net salary: 115082.1\n"
     ]
    }
   ],
   "source": [
    "\n",
    "def calculate_salary():\n",
    "  \n",
    "  #Calculates and prints the salary of an employee.\n",
    "  \n",
    "  basic_salary = float(input(\"Enter the basic salary: \"))\n",
    "  hra = float(input(\"Enter the HRA: \"))\n",
    "  ta = float(input(\"Enter the TA: \"))\n",
    "  da = float(input(\"Enter the DA: \"))\n",
    "\n",
    "  gross_salary = basic_salary + hra + ta + da\n",
    "  tax = gross_salary * 0.1\n",
    "  net_salary = gross_salary - tax\n",
    "\n",
    "  print(\"Gross salary:\", gross_salary)\n",
    "  print(\"Tax:\", tax)\n",
    "  print(\"Net salary:\", net_salary)\n",
    "\n",
    "\n",
    "calculate_salary()"
   ]
  },
  {
   "cell_type": "markdown",
   "id": "195f2b75",
   "metadata": {},
   "source": [
    "# 3. Write a python program to search for a string in the given list."
   ]
  },
  {
   "cell_type": "code",
   "execution_count": null,
   "id": "a0fd6e00",
   "metadata": {},
   "outputs": [],
   "source": [
    "def search_string_in_list(list, string):\n",
    "  for item in list:\n",
    "    if item == string:\n",
    "      return True\n",
    "  return False\n",
    "\n",
    "\n",
    "list = [\"Python\", \"Java\", \"C++\", \"JavaScript\"]\n",
    "string = \"Python\"\n",
    "\n",
    "if search_string_in_list(list, string):\n",
    "  print(\"The string is found in the list\")\n",
    "else:\n",
    "  print(\"The string is not found in the list\")\n",
    "  "
   ]
  },
  {
   "cell_type": "markdown",
   "id": "f5dadf60",
   "metadata": {},
   "source": [
    "# 4. Write a Python function that accepts a string and calculates the number of upper-case letters and lower-case letters."
   ]
  },
  {
   "cell_type": "code",
   "execution_count": 82,
   "id": "09705969",
   "metadata": {},
   "outputs": [
    {
     "name": "stdout",
     "output_type": "stream",
     "text": [
      "Enter a string: hi hello\n",
      "The number of upper-case letters is 0\n",
      "The number of lower-case letters is 7\n"
     ]
    }
   ],
   "source": [
    "\n",
    "def count_upper_lower_case(string):\n",
    "  \"\"\"\n",
    "  Counts the number of upper-case and lower-case letters in a string.\n",
    "\n",
    "  Args:\n",
    "    string: The string to count the letters in.\n",
    "\n",
    "  Returns:\n",
    "    A tuple of the number of upper-case letters and the number of lower-case letters.\n",
    "  \"\"\"\n",
    "  upper_case = 0\n",
    "  lower_case = 0\n",
    "  for char in string:\n",
    "    if char.isupper():\n",
    "      upper_case += 1\n",
    "    elif char.islower():\n",
    "      lower_case += 1\n",
    "  return upper_case, lower_case\n",
    "\n",
    "\n",
    "string = input(\"Enter a string: \")\n",
    "upper_case, lower_case = count_upper_lower_case(string)\n",
    "print(\"The number of upper-case letters is\", upper_case)\n",
    "print(\"The number of lower-case letters is\", lower_case)"
   ]
  },
  {
   "cell_type": "markdown",
   "id": "13590b04",
   "metadata": {},
   "source": [
    "# 5. Write a program to display the sum of odd numbers and even numbers that fall between 12 and 37."
   ]
  },
  {
   "cell_type": "code",
   "execution_count": 1,
   "id": "67603384",
   "metadata": {},
   "outputs": [
    {
     "name": "stdout",
     "output_type": "stream",
     "text": [
      "Enter the starting number: 2\n",
      "Enter the ending number: 3\n",
      "The sum of odd numbers is 3\n",
      "The sum of even numbers is 2\n"
     ]
    }
   ],
   "source": [
    "def sum_odd_even_numbers(start, end):\n",
    " \n",
    "  odd_sum = 0\n",
    "  even_sum = 0\n",
    "  for i in range(start, end + 1):\n",
    "    if i % 2 == 1:\n",
    "      odd_sum += i\n",
    "    else:\n",
    "      even_sum += i\n",
    "  print(\"The sum of odd numbers is\", odd_sum)\n",
    "  print(\"The sum of even numbers is\", even_sum)\n",
    "\n",
    "\n",
    "start = int(input(\"Enter the starting number: \"))\n",
    "end = int(input(\"Enter the ending number: \"))\n",
    "sum_odd_even_numbers(start, end)"
   ]
  },
  {
   "cell_type": "markdown",
   "id": "a565c91d",
   "metadata": {},
   "source": [
    "# 6. Write a python Program to print the table of any number."
   ]
  },
  {
   "cell_type": "code",
   "execution_count": 2,
   "id": "f6ab13e0",
   "metadata": {},
   "outputs": [
    {
     "name": "stdout",
     "output_type": "stream",
     "text": [
      "Enter a number: 25\n",
      "25 x 1 = 25\n",
      "25 x 2 = 50\n",
      "25 x 3 = 75\n",
      "25 x 4 = 100\n",
      "25 x 5 = 125\n",
      "25 x 6 = 150\n",
      "25 x 7 = 175\n",
      "25 x 8 = 200\n",
      "25 x 9 = 225\n",
      "25 x 10 = 250\n"
     ]
    }
   ],
   "source": [
    "\n",
    "def print_table(number):\n",
    "  \n",
    "  for i in range(1, 11):\n",
    "    print(number, \"x\", i, \"=\", number * i)\n",
    "\n",
    "number = int(input(\"Enter a number: \"))\n",
    "print_table(number)"
   ]
  },
  {
   "cell_type": "markdown",
   "id": "397a7615",
   "metadata": {},
   "source": [
    "# 7. Write a Python program to sum the first 10 prime numbers."
   ]
  },
  {
   "cell_type": "code",
   "execution_count": 8,
   "id": "d3eaff51",
   "metadata": {},
   "outputs": [
    {
     "name": "stdout",
     "output_type": "stream",
     "text": [
      "17\n"
     ]
    }
   ],
   "source": [
    "def sum_first_n_primes(n):\n",
    "  \n",
    "  primes = []\n",
    "  sum_primes = 0\n",
    "  for i in range(2, n + 1):\n",
    "    if is_prime(i):\n",
    "      primes.append(i)\n",
    "      sum_primes += i\n",
    "  return sum_primes\n",
    "\n",
    "\n",
    "def is_prime(number):\n",
    "  \n",
    "  if number <= 1:\n",
    "    return False\n",
    "  for i in range(2, int(number ** 0.5) + 1):\n",
    "    if number % i == 0:\n",
    "      return False\n",
    "  return True\n",
    "\n",
    "\n",
    "print(sum_first_n_primes(10))\n"
   ]
  },
  {
   "cell_type": "markdown",
   "id": "64f6bd11",
   "metadata": {},
   "source": [
    "# 8. Write a python program to implement arithmetic operations using nested if statement."
   ]
  },
  {
   "cell_type": "code",
   "execution_count": 1,
   "id": "940b802d",
   "metadata": {},
   "outputs": [
    {
     "name": "stdout",
     "output_type": "stream",
     "text": [
      "2.0\n"
     ]
    }
   ],
   "source": [
    "def arithmetic_operations(a, b):\n",
    "  \n",
    "  if a > b:\n",
    "    if a % b == 0:\n",
    "      return a / b\n",
    "    else:\n",
    "      return a - b\n",
    "  else:\n",
    "    if a % b == 0:\n",
    "      return a * b\n",
    "    else:\n",
    "      return a + b\n",
    "\n",
    "print(arithmetic_operations(10, 5))"
   ]
  },
  {
   "cell_type": "markdown",
   "id": "2258874c",
   "metadata": {},
   "source": [
    "# 9. Write a python program to take the temperature in Celsius and convert it to a Fahrenheit."
   ]
  },
  {
   "cell_type": "code",
   "execution_count": 3,
   "id": "571a535d",
   "metadata": {},
   "outputs": [
    {
     "name": "stdout",
     "output_type": "stream",
     "text": [
      "Enter the temperature in Celsius: 32\n",
      "fahrenhait is 89.6\n"
     ]
    }
   ],
   "source": [
    "\n",
    "def celsius_to_fahrenheit(celsius):\n",
    "  fahrenheit = celsius * 9 / 5 + 32\n",
    "  return fahrenheit\n",
    "\n",
    "celsius = float(input(\"Enter the temperature in Celsius: \"))\n",
    "print(\"fahrenhait is\",celsius_to_fahrenheit(celsius))"
   ]
  },
  {
   "cell_type": "markdown",
   "id": "9c3b2fb3",
   "metadata": {},
   "source": [
    "# 10. Write a python program to find a maximum and minimum number in a list without using an inbuilt function"
   ]
  },
  {
   "cell_type": "code",
   "execution_count": 1,
   "id": "754cdb8d",
   "metadata": {},
   "outputs": [
    {
     "name": "stdout",
     "output_type": "stream",
     "text": [
      "The maximum number is 10\n",
      "The minimum number is 2\n"
     ]
    }
   ],
   "source": [
    "\n",
    "def find_max_min(list):\n",
    "  \n",
    "  max_number = list[0]\n",
    "  min_number = list[0]\n",
    "  for number in list:\n",
    "    if number > max_number:\n",
    "      max_number = number\n",
    "    elif number < min_number:\n",
    "      min_number = number\n",
    "  return max_number, min_number\n",
    "\n",
    "\n",
    "list = [10, 4, 2, 9, 7]\n",
    "max_number, min_number = find_max_min(list)\n",
    "print(\"The maximum number is\", max_number)\n",
    "print(\"The minimum number is\", min_number)"
   ]
  },
  {
   "cell_type": "markdown",
   "id": "9f452323",
   "metadata": {},
   "source": [
    "# 11. Write a program in python to print out the number of seconds in 30-day month 30 days, 24 hours in a day, 60 minutes per day, 60 seconds in a minute."
   ]
  },
  {
   "cell_type": "code",
   "execution_count": 2,
   "id": "7c3f9ffb",
   "metadata": {},
   "outputs": [
    {
     "name": "stdout",
     "output_type": "stream",
     "text": [
      "The number of seconds in a 30-day month is 2592000\n"
     ]
    }
   ],
   "source": [
    "def number_of_seconds_in_month():\n",
    "  seconds_in_day = 24 * 60 * 60\n",
    "  number_of_days = 30\n",
    "  number_of_seconds = seconds_in_day * number_of_days\n",
    "  print(\"The number of seconds in a 30-day month is\", number_of_seconds)\n",
    "\n",
    "\n",
    "number_of_seconds_in_month()"
   ]
  },
  {
   "cell_type": "markdown",
   "id": "54a0c8d7",
   "metadata": {},
   "source": [
    "# 12. Write a program in python to print out the number of seconds in a year."
   ]
  },
  {
   "cell_type": "code",
   "execution_count": 3,
   "id": "b48a0b46",
   "metadata": {},
   "outputs": [
    {
     "name": "stdout",
     "output_type": "stream",
     "text": [
      "The number of seconds in a year is 31536000\n"
     ]
    }
   ],
   "source": [
    "def number_of_seconds_in_year():\n",
    "\n",
    "  seconds_in_day = 24 * 60 * 60\n",
    "  number_of_days_in_year = 365\n",
    "  number_of_seconds_in_year = seconds_in_day * number_of_days_in_year\n",
    "  print(\"The number of seconds in a year is\", number_of_seconds_in_year)\n",
    "\n",
    "\n",
    "number_of_seconds_in_year()"
   ]
  },
  {
   "cell_type": "markdown",
   "id": "207ef89e",
   "metadata": {},
   "source": [
    "# 13. A high-speed train can travel at an average speed of 150 mph, how long will it take a train travelling at this speed to travel from London to Glasgow which is 414 miles away?"
   ]
  },
  {
   "cell_type": "code",
   "execution_count": 4,
   "id": "e8e9fe72",
   "metadata": {},
   "outputs": [
    {
     "name": "stdout",
     "output_type": "stream",
     "text": [
      "The time it takes to travel from London to Glasgow is 2.76 hours\n"
     ]
    }
   ],
   "source": [
    "def time_to_travel_from_london_to_glasgow():\n",
    "\n",
    "  speed_of_train = 150\n",
    "  distance_to_glasgow = 414\n",
    "  time_to_travel = distance_to_glasgow / speed_of_train\n",
    "  print(\"The time it takes to travel from London to Glasgow is\", time_to_travel, \"hours\")\n",
    "\n",
    "\n",
    "time_to_travel_from_london_to_glasgow()"
   ]
  },
  {
   "cell_type": "markdown",
   "id": "2dfe2f3e",
   "metadata": {},
   "source": [
    "# 14. Write a python program that defines a variable called days_in_each_school_year and assign 192 to the variable. The program should then print out the total hours that you spend in school from year 7 to year 11, if each day you spend 6 hours in school days_in_each_school_year = 192"
   ]
  },
  {
   "cell_type": "code",
   "execution_count": 5,
   "id": "b5a4a916",
   "metadata": {},
   "outputs": [
    {
     "name": "stdout",
     "output_type": "stream",
     "text": [
      "The total hours that you spend in school from year 7 to year 11 is 1152\n"
     ]
    }
   ],
   "source": [
    "days_in_each_school_year = 192\n",
    "total_hours_spent_in_school = days_in_each_school_year * 6\n",
    "print(\"The total hours that you spend in school from year 7 to year 11 is\", total_hours_spent_in_school)"
   ]
  },
  {
   "cell_type": "markdown",
   "id": "4cdb9153",
   "metadata": {},
   "source": [
    "# 15. If the age of Ram,Sam and Khan are input through the keyboard, write a python program to determine the eldest and youngest of the three."
   ]
  },
  {
   "cell_type": "code",
   "execution_count": 6,
   "id": "6293b318",
   "metadata": {},
   "outputs": [
    {
     "name": "stdout",
     "output_type": "stream",
     "text": [
      "Enter Ram's age: 26\n",
      "Enter Sam's age: 22\n",
      "Enter Khan's age: 23\n",
      "The eldest is 26 and the youngest is 22\n"
     ]
    }
   ],
   "source": [
    "def find_eldest_and_youngest(ram_age, sam_age, khan_age):\n",
    " \n",
    "  eldest = ram_age\n",
    "  youngest = ram_age\n",
    "  if sam_age > eldest:\n",
    "    eldest = sam_age\n",
    "  elif sam_age < youngest:\n",
    "    youngest = sam_age\n",
    "  if khan_age > eldest:\n",
    "    eldest = khan_age\n",
    "  elif khan_age < youngest:\n",
    "    youngest = khan_age\n",
    "  return eldest, youngest\n",
    "\n",
    "\n",
    "ram_age = int(input(\"Enter Ram's age: \"))\n",
    "sam_age = int(input(\"Enter Sam's age: \"))\n",
    "khan_age = int(input(\"Enter Khan's age: \"))\n",
    "\n",
    "eldest, youngest = find_eldest_and_youngest(ram_age, sam_age, khan_age)\n",
    "print(\"The eldest is\", eldest, \"and the youngest is\", youngest)"
   ]
  },
  {
   "cell_type": "markdown",
   "id": "5f35618a",
   "metadata": {},
   "source": [
    "# 16. Write a python program to rotate a list by right n times with and without slicing technique"
   ]
  },
  {
   "cell_type": "code",
   "execution_count": 12,
   "id": "e6ff86b3",
   "metadata": {},
   "outputs": [
    {
     "name": "stdout",
     "output_type": "stream",
     "text": [
      "[4, 5, 1, 2, 3]\n"
     ]
    }
   ],
   "source": [
    "\n",
    "def rotate_list_without_slicing(list, n):\n",
    "\n",
    "  rotated_list = []\n",
    "  for i in range(len(list) - n, len(list)):\n",
    "    rotated_list.append(list[i])\n",
    "  for i in range(0, len(list) - n):\n",
    "    rotated_list.append(list[i])\n",
    "  return rotated_list\n",
    "\n",
    "\n",
    "list = [1, 2, 3, 4, 5]\n",
    "print(rotate_list_without_slicing(list, 2))\n",
    " "
   ]
  },
  {
   "cell_type": "markdown",
   "id": "e12cd6d7",
   "metadata": {},
   "source": [
    "# 17. Python program to print the patterns given below:\n"
   ]
  },
  {
   "cell_type": "code",
   "execution_count": 13,
   "id": "f3183d83",
   "metadata": {},
   "outputs": [
    {
     "name": "stdout",
     "output_type": "stream",
     "text": [
      "1\n",
      "221\n",
      "331311\n",
      "4414114111\n",
      "551511511151111\n"
     ]
    }
   ],
   "source": [
    "# Number Pattrn\n",
    "\n",
    "def number_pattern(n):\n",
    " \n",
    "  for i in range(1, n + 1):\n",
    "    num = i\n",
    "    for j in range(1, i + 1):\n",
    "      print(num, end=\"\")\n",
    "      num = num * 10 + 1\n",
    "    print()\n",
    "\n",
    "\n",
    "number_pattern(5)"
   ]
  },
  {
   "cell_type": "code",
   "execution_count": 14,
   "id": "9645cba5",
   "metadata": {},
   "outputs": [
    {
     "name": "stdout",
     "output_type": "stream",
     "text": [
      "P\n",
      "QQ\n",
      "RRR\n",
      "SSSS\n",
      "TTTTT\n",
      "UUUUUU\n"
     ]
    }
   ],
   "source": [
    "# Alphabet pattrn\n",
    "\n",
    "def alphabet_pattern(n):\n",
    "  \n",
    "  for i in range(1, n + 1):\n",
    "    for j in range(1, i + 1):\n",
    "      letter = chr(ord(\"P\") + i - 1)\n",
    "      print(letter, end=\"\")\n",
    "    print()\n",
    "\n",
    "\n",
    "alphabet_pattern(6)"
   ]
  },
  {
   "cell_type": "code",
   "execution_count": 18,
   "id": "40f7020d",
   "metadata": {},
   "outputs": [
    {
     "name": "stdout",
     "output_type": "stream",
     "text": [
      "    *\n",
      "   ***\n",
      "  *****\n",
      " *******\n",
      "*********\n",
      "     \n",
      "    **\n",
      "   ****\n",
      "  ******\n"
     ]
    }
   ],
   "source": [
    "# Diamond patrn\n",
    "\n",
    "def diamond_pattern(n):\n",
    " \n",
    "  for i in range(1, n + 1):\n",
    "    num_spaces = n - i\n",
    "    num_stars = 2 * i - 1\n",
    "    for j in range(num_spaces):\n",
    "      print(\" \", end=\"\")\n",
    "    for j in range(num_stars):\n",
    "      print(\"*\", end=\"\")\n",
    "    print()\n",
    "  for i in range(n - 1):\n",
    "    num_spaces = n - i\n",
    "    num_stars = 2 * i\n",
    "    for j in range(num_spaces):\n",
    "      print(\" \", end=\"\")\n",
    "    for j in range(num_stars):\n",
    "      print(\"*\", end=\"\")\n",
    "    print()\n",
    "\n",
    "\n",
    "diamond_pattern(5)"
   ]
  },
  {
   "cell_type": "code",
   "execution_count": 16,
   "id": "e28e3119",
   "metadata": {},
   "outputs": [
    {
     "name": "stdout",
     "output_type": "stream",
     "text": [
      "*\n",
      "**\n",
      "***\n",
      "****\n",
      "*****\n"
     ]
    }
   ],
   "source": [
    "# Star patrn\n",
    "\n",
    "def star_pattern(n):\n",
    "  for i in range(n):\n",
    "    for j in range(i + 1):\n",
    "      print(\"*\", end=\"\")\n",
    "    print()\n",
    "\n",
    "\n",
    "star_pattern(5)"
   ]
  },
  {
   "cell_type": "code",
   "execution_count": null,
   "id": "b381e25f",
   "metadata": {},
   "outputs": [],
   "source": []
  }
 ],
 "metadata": {
  "kernelspec": {
   "display_name": "Python 3 (ipykernel)",
   "language": "python",
   "name": "python3"
  },
  "language_info": {
   "codemirror_mode": {
    "name": "ipython",
    "version": 3
   },
   "file_extension": ".py",
   "mimetype": "text/x-python",
   "name": "python",
   "nbconvert_exporter": "python",
   "pygments_lexer": "ipython3",
   "version": "3.11.4"
  }
 },
 "nbformat": 4,
 "nbformat_minor": 5
}
